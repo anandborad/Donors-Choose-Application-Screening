{
  "nbformat": 4,
  "nbformat_minor": 0,
  "metadata": {
    "accelerator": "GPU",
    "colab": {
      "name": "Donors_Chosse_Preprocessing_&_ML_Models v5.ipynb",
      "provenance": [],
      "collapsed_sections": []
    },
    "kernelspec": {
      "display_name": "Python 3",
      "language": "python",
      "name": "python3"
    },
    "language_info": {
      "codemirror_mode": {
        "name": "ipython",
        "version": 3
      },
      "file_extension": ".py",
      "mimetype": "text/x-python",
      "name": "python",
      "nbconvert_exporter": "python",
      "pygments_lexer": "ipython3",
      "version": "3.6.5"
    }
  },
  "cells": [
    {
      "cell_type": "markdown",
      "metadata": {
        "colab_type": "text",
        "id": "sgxn3m9D4QU9"
      },
      "source": [
        "# Donors Choose Application Screening"
      ]
    },
    {
      "cell_type": "markdown",
      "metadata": {
        "colab_type": "text",
        "id": "Knv8271-UaqG"
      },
      "source": [
        "<p>\n",
        "DonorsChoose.org receives hundreds of thousands of project proposals each year for classroom projects in need of funding. Right now, a large number of volunteers is needed to manually screen each submission before it's approved to be posted on the DonorsChoose.org website.\n",
        "</p>\n",
        "<p>\n",
        "    Next year, DonorsChoose.org expects to receive close to 500,000 project proposals. As a result, there are three main problems they need to solve:\n",
        "<ul>\n",
        "<li>\n",
        "    How to scale current manual processes and resources to screen 500,000 projects so that they can be posted as quickly and as efficiently as possible</li>\n",
        "    <li>How to increase the consistency of project vetting across different volunteers to improve the experience for teachers</li>\n",
        "    <li>How to focus volunteer time on the applications that need the most assistance</li>\n",
        "    </ul>\n",
        "</p>    \n",
        "<p>\n",
        "The goal of the competition is to predict whether or not a DonorsChoose.org project proposal submitted by a teacher will be approved, using the text of project descriptions as well as additional metadata about the project, teacher, and school. DonorsChoose.org can then use this information to identify projects most likely to need further review before approval.\n",
        "</p>"
      ]
    },
    {
      "cell_type": "markdown",
      "metadata": {
        "colab_type": "text",
        "id": "5M0zWZUXUaqI"
      },
      "source": [
        "## About the DonorsChoose Data Set\n",
        "\n",
        "The `train.csv` data set provided by DonorsChoose contains the following features:\n",
        "\n",
        "Feature | Description \n",
        "----------|---------------\n",
        "**`project_id`** | A unique identifier for the proposed project. **Example:** `p036502`   \n",
        "**`project_title`**    | Title of the project. **Examples:**<br><ul><li><code>Art Will Make You Happy!</code></li><li><code>First Grade Fun</code></li></ul> \n",
        "**`project_grade_category`** | Grade level of students for which the project is targeted. One of the following enumerated values: <br/><ul><li><code>Grades PreK-2</code></li><li><code>Grades 3-5</code></li><li><code>Grades 6-8</code></li><li><code>Grades 9-12</code></li></ul>  \n",
        " **`project_subject_categories`** | One or more (comma-separated) subject categories for the project from the following enumerated list of values:  <br/><ul><li><code>Applied Learning</code></li><li><code>Care &amp; Hunger</code></li><li><code>Health &amp; Sports</code></li><li><code>History &amp; Civics</code></li><li><code>Literacy &amp; Language</code></li><li><code>Math &amp; Science</code></li><li><code>Music &amp; The Arts</code></li><li><code>Special Needs</code></li><li><code>Warmth</code></li></ul><br/> **Examples:** <br/><ul><li><code>Music &amp; The Arts</code></li><li><code>Literacy &amp; Language, Math &amp; Science</code></li>  \n",
        "  **`school_state`** | State where school is located ([Two-letter U.S. postal code](https://en.wikipedia.org/wiki/List_of_U.S._state_abbreviations#Postal_codes)). **Example:** `WY`\n",
        "**`project_subject_subcategories`** | One or more (comma-separated) subject subcategories for the project. **Examples:** <br/><ul><li><code>Literacy</code></li><li><code>Literature &amp; Writing, Social Sciences</code></li></ul> \n",
        "**`project_resource_summary`** | An explanation of the resources needed for the project. **Example:** <br/><ul><li><code>My students need hands on literacy materials to manage sensory needs!</code</li></ul> \n",
        "**`project_essay_1`**    | First application essay<sup>*</sup>  \n",
        "**`project_essay_2`**    | Second application essay<sup>*</sup> \n",
        "**`project_essay_3`**    | Third application essay<sup>*</sup> \n",
        "**`project_essay_4`**    | Fourth application essay<sup>*</sup> \n",
        "**`project_submitted_datetime`** | Datetime when project application was submitted. **Example:** `2016-04-28 12:43:56.245`   \n",
        "**`teacher_id`** | A unique identifier for the teacher of the proposed project. **Example:** `bdf8baa8fedef6bfeec7ae4ff1c15c56`  \n",
        "**`teacher_prefix`** | Teacher's title. One of the following enumerated values: <br/><ul><li><code>nan</code></li><li><code>Dr.</code></li><li><code>Mr.</code></li><li><code>Mrs.</code></li><li><code>Ms.</code></li><li><code>Teacher.</code></li></ul>  \n",
        "**`teacher_number_of_previously_posted_projects`** | Number of project applications previously submitted by the same teacher. **Example:** `2` \n",
        "\n",
        "<sup>*</sup> See the section <b>Notes on the Essay Data</b> for more details about these features.\n",
        "\n",
        "Additionally, the `resources.csv` data set provides more data about the resources required for each project. Each line in this file represents a resource required by a project:\n",
        "\n",
        "Feature | Description \n",
        "----------|---------------\n",
        "**`id`** | A `project_id` value from the `train.csv` file.  **Example:** `p036502`   \n",
        "**`description`** | Desciption of the resource. **Example:** `Tenor Saxophone Reeds, Box of 25`   \n",
        "**`quantity`** | Quantity of the resource required. **Example:** `3`   \n",
        "**`price`** | Price of the resource required. **Example:** `9.95`   \n",
        "\n",
        "**Note:** Many projects require multiple resources. The `id` value corresponds to a `project_id` in train.csv, so you use it as a key to retrieve all resources needed for a project:\n",
        "\n",
        "The data set contains the following label (the value you will attempt to predict):\n",
        "\n",
        "Label | Description\n",
        "----------|---------------\n",
        "`project_is_approved` | A binary flag indicating whether DonorsChoose approved the project. A value of `0` indicates the project was not approved, and a value of `1` indicates the project was approved."
      ]
    },
    {
      "cell_type": "markdown",
      "metadata": {
        "colab_type": "text",
        "id": "7boR3cktUaqK"
      },
      "source": [
        "### Notes on the Essay Data\n",
        "\n",
        "<ul>\n",
        "Prior to May 17, 2016, the prompts for the essays were as follows:\n",
        "<li>__project_essay_1:__ \"Introduce us to your classroom\"</li>\n",
        "<li>__project_essay_2:__ \"Tell us more about your students\"</li>\n",
        "<li>__project_essay_3:__ \"Describe how your students will use the materials you're requesting\"</li>\n",
        "<li>__project_essay_3:__ \"Close by sharing why your project will make a difference\"</li>\n",
        "</ul>\n",
        "\n",
        "\n",
        "<ul>\n",
        "Starting on May 17, 2016, the number of essays was reduced from 4 to 2, and the prompts for the first 2 essays were changed to the following:<br>\n",
        "<li>__project_essay_1:__ \"Describe your students: What makes your students special? Specific details about their background, your neighborhood, and your school are all helpful.\"</li>\n",
        "<li>__project_essay_2:__ \"About your project: How will these materials make a difference in your students' learning and improve their school lives?\"</li>\n",
        "<br>For all projects with project_submitted_datetime of 2016-05-17 and later, the values of project_essay_3 and project_essay_4 will be NaN.\n",
        "</ul>\n"
      ]
    },
    {
      "cell_type": "code",
      "metadata": {
        "colab_type": "code",
        "id": "oZCm7EI3UaqL",
        "colab": {}
      },
      "source": [
        "%matplotlib inline\n",
        "import warnings\n",
        "warnings.filterwarnings(\"ignore\")\n",
        "\n",
        "import pandas as pd\n",
        "import numpy as np\n",
        "from sklearn.feature_extraction.text import TfidfVectorizer\n",
        "from sklearn.feature_extraction.text import CountVectorizer\n",
        "\n",
        "\n",
        "import re\n",
        "# Tutorial about Python regular expressions: https://pymotw.com/2/re/\n",
        "\n",
        "from nltk.corpus import stopwords\n",
        "import pickle\n",
        "\n",
        "from tqdm import tqdm\n",
        "import os"
      ],
      "execution_count": 0,
      "outputs": []
    },
    {
      "cell_type": "code",
      "metadata": {
        "colab_type": "code",
        "id": "wC7gfec_VT6N",
        "outputId": "4dae7214-88ac-47bb-82f3-5d71c500f9e5",
        "colab": {
          "base_uri": "https://localhost:8080/",
          "height": 34
        }
      },
      "source": [
        "# Mounting google drive\n",
        "from google.colab import drive\n",
        "drive.mount('/content/drive')"
      ],
      "execution_count": 0,
      "outputs": [
        {
          "output_type": "stream",
          "text": [
            "Drive already mounted at /content/drive; to attempt to forcibly remount, call drive.mount(\"/content/drive\", force_remount=True).\n"
          ],
          "name": "stdout"
        }
      ]
    },
    {
      "cell_type": "markdown",
      "metadata": {
        "colab_type": "text",
        "id": "m4bZz4XuUaqV"
      },
      "source": [
        "## 1. Reading Data"
      ]
    },
    {
      "cell_type": "code",
      "metadata": {
        "colab_type": "code",
        "id": "ikJF5XdBUaqW",
        "colab": {}
      },
      "source": [
        "project_data = pd.read_csv(f'train_data.csv')\n",
        "resource_data = pd.read_csv(f'resources.csv')"
      ],
      "execution_count": 0,
      "outputs": []
    },
    {
      "cell_type": "code",
      "metadata": {
        "colab_type": "code",
        "id": "plltJu-2Uaqc",
        "outputId": "0540f820-9bbb-4212-8b7b-54cb63cf6288",
        "colab": {
          "base_uri": "https://localhost:8080/",
          "height": 158
        }
      },
      "source": [
        "print(\"Number of data points in train data\", project_data.shape)\n",
        "print('-'*50)\n",
        "print(\"The attributes of data :\", project_data.columns.values)"
      ],
      "execution_count": 0,
      "outputs": [
        {
          "output_type": "stream",
          "text": [
            "Number of data points in train data (109248, 17)\n",
            "--------------------------------------------------\n",
            "The attributes of data : ['Unnamed: 0' 'id' 'teacher_id' 'teacher_prefix' 'school_state'\n",
            " 'project_submitted_datetime' 'project_grade_category'\n",
            " 'project_subject_categories' 'project_subject_subcategories'\n",
            " 'project_title' 'project_essay_1' 'project_essay_2' 'project_essay_3'\n",
            " 'project_essay_4' 'project_resource_summary'\n",
            " 'teacher_number_of_previously_posted_projects' 'project_is_approved']\n"
          ],
          "name": "stdout"
        }
      ]
    },
    {
      "cell_type": "code",
      "metadata": {
        "colab_type": "code",
        "id": "HlJGLZZuUaqm",
        "outputId": "1bf4f95f-a70b-4363-89ed-7669bd778c1e",
        "colab": {
          "base_uri": "https://localhost:8080/",
          "height": 143
        }
      },
      "source": [
        "print(\"Number of data points in train data\", resource_data.shape)\n",
        "print(resource_data.columns.values)\n",
        "resource_data.head(2)"
      ],
      "execution_count": 0,
      "outputs": [
        {
          "output_type": "stream",
          "text": [
            "Number of data points in train data (1541272, 4)\n",
            "['id' 'description' 'quantity' 'price']\n"
          ],
          "name": "stdout"
        },
        {
          "output_type": "execute_result",
          "data": {
            "text/html": [
              "<div>\n",
              "<style scoped>\n",
              "    .dataframe tbody tr th:only-of-type {\n",
              "        vertical-align: middle;\n",
              "    }\n",
              "\n",
              "    .dataframe tbody tr th {\n",
              "        vertical-align: top;\n",
              "    }\n",
              "\n",
              "    .dataframe thead th {\n",
              "        text-align: right;\n",
              "    }\n",
              "</style>\n",
              "<table border=\"1\" class=\"dataframe\">\n",
              "  <thead>\n",
              "    <tr style=\"text-align: right;\">\n",
              "      <th></th>\n",
              "      <th>id</th>\n",
              "      <th>description</th>\n",
              "      <th>quantity</th>\n",
              "      <th>price</th>\n",
              "    </tr>\n",
              "  </thead>\n",
              "  <tbody>\n",
              "    <tr>\n",
              "      <th>0</th>\n",
              "      <td>p233245</td>\n",
              "      <td>LC652 - Lakeshore Double-Space Mobile Drying Rack</td>\n",
              "      <td>1</td>\n",
              "      <td>149.00</td>\n",
              "    </tr>\n",
              "    <tr>\n",
              "      <th>1</th>\n",
              "      <td>p069063</td>\n",
              "      <td>Bouncy Bands for Desks (Blue support pipes)</td>\n",
              "      <td>3</td>\n",
              "      <td>14.95</td>\n",
              "    </tr>\n",
              "  </tbody>\n",
              "</table>\n",
              "</div>"
            ],
            "text/plain": [
              "        id                                        description  quantity  \\\n",
              "0  p233245  LC652 - Lakeshore Double-Space Mobile Drying Rack         1   \n",
              "1  p069063        Bouncy Bands for Desks (Blue support pipes)         3   \n",
              "\n",
              "    price  \n",
              "0  149.00  \n",
              "1   14.95  "
            ]
          },
          "metadata": {
            "tags": []
          },
          "execution_count": 7
        }
      ]
    },
    {
      "cell_type": "markdown",
      "metadata": {
        "colab_type": "text",
        "id": "LFotU5upUaqu"
      },
      "source": [
        "# 2. Preprocessing Categorical Features: project_grade_category"
      ]
    },
    {
      "cell_type": "code",
      "metadata": {
        "colab_type": "code",
        "id": "63xcUdwiUaqv",
        "outputId": "04c777c9-3ab9-4e6f-edb0-5ef3031b53e0",
        "colab": {
          "base_uri": "https://localhost:8080/",
          "height": 105
        }
      },
      "source": [
        "project_data['project_grade_category'].value_counts()"
      ],
      "execution_count": 0,
      "outputs": [
        {
          "output_type": "execute_result",
          "data": {
            "text/plain": [
              "Grades PreK-2    44225\n",
              "Grades 3-5       37137\n",
              "Grades 6-8       16923\n",
              "Grades 9-12      10963\n",
              "Name: project_grade_category, dtype: int64"
            ]
          },
          "metadata": {
            "tags": []
          },
          "execution_count": 8
        }
      ]
    },
    {
      "cell_type": "markdown",
      "metadata": {
        "colab_type": "text",
        "id": "mvFCnSJ8Uaq3"
      },
      "source": [
        "we need to remove the spaces, replace the '-' with '_' and convert all the letters to small"
      ]
    },
    {
      "cell_type": "code",
      "metadata": {
        "colab_type": "code",
        "id": "ebd7FghqUaq5",
        "outputId": "16342362-08ec-4179-a636-610e011abc06",
        "colab": {
          "base_uri": "https://localhost:8080/",
          "height": 105
        }
      },
      "source": [
        "# https://stackoverflow.com/questions/36383821/pandas-dataframe-apply-function-to-column-strings-based-on-other-column-value\n",
        "project_data['project_grade_category'] = project_data['project_grade_category'].str.replace(' ','_')\n",
        "project_data['project_grade_category'] = project_data['project_grade_category'].str.replace('-','_')\n",
        "project_data['project_grade_category'] = project_data['project_grade_category'].str.lower()\n",
        "project_data['project_grade_category'].value_counts()"
      ],
      "execution_count": 0,
      "outputs": [
        {
          "output_type": "execute_result",
          "data": {
            "text/plain": [
              "grades_prek_2    44225\n",
              "grades_3_5       37137\n",
              "grades_6_8       16923\n",
              "grades_9_12      10963\n",
              "Name: project_grade_category, dtype: int64"
            ]
          },
          "metadata": {
            "tags": []
          },
          "execution_count": 9
        }
      ]
    },
    {
      "cell_type": "markdown",
      "metadata": {
        "colab_type": "text",
        "id": "hRWuS_uEUaq-"
      },
      "source": [
        "# 3. Preprocessing Categorical Features: project_subject_categories"
      ]
    },
    {
      "cell_type": "code",
      "metadata": {
        "colab_type": "code",
        "id": "oNHGx13YUaq_",
        "outputId": "28b040c2-c531-4b8f-d793-d001a084c944",
        "scrolled": true,
        "colab": {
          "base_uri": "https://localhost:8080/",
          "height": 941
        }
      },
      "source": [
        "project_data['project_subject_categories'].value_counts()"
      ],
      "execution_count": 0,
      "outputs": [
        {
          "output_type": "execute_result",
          "data": {
            "text/plain": [
              "Literacy & Language                           23655\n",
              "Math & Science                                17072\n",
              "Literacy & Language, Math & Science           14636\n",
              "Health & Sports                               10177\n",
              "Music & The Arts                               5180\n",
              "Special Needs                                  4226\n",
              "Literacy & Language, Special Needs             3961\n",
              "Applied Learning                               3771\n",
              "Math & Science, Literacy & Language            2289\n",
              "Applied Learning, Literacy & Language          2191\n",
              "History & Civics                               1851\n",
              "Math & Science, Special Needs                  1840\n",
              "Literacy & Language, Music & The Arts          1757\n",
              "Math & Science, Music & The Arts               1642\n",
              "Applied Learning, Special Needs                1467\n",
              "History & Civics, Literacy & Language          1421\n",
              "Health & Sports, Special Needs                 1391\n",
              "Warmth, Care & Hunger                          1309\n",
              "Math & Science, Applied Learning               1220\n",
              "Applied Learning, Math & Science               1052\n",
              "Literacy & Language, History & Civics           809\n",
              "Health & Sports, Literacy & Language            803\n",
              "Applied Learning, Music & The Arts              758\n",
              "Math & Science, History & Civics                652\n",
              "Literacy & Language, Applied Learning           636\n",
              "Applied Learning, Health & Sports               608\n",
              "Math & Science, Health & Sports                 414\n",
              "History & Civics, Math & Science                322\n",
              "History & Civics, Music & The Arts              312\n",
              "Special Needs, Music & The Arts                 302\n",
              "Health & Sports, Math & Science                 271\n",
              "History & Civics, Special Needs                 252\n",
              "Health & Sports, Applied Learning               192\n",
              "Applied Learning, History & Civics              178\n",
              "Health & Sports, Music & The Arts               155\n",
              "Music & The Arts, Special Needs                 138\n",
              "Literacy & Language, Health & Sports             72\n",
              "Health & Sports, History & Civics                43\n",
              "Special Needs, Health & Sports                   42\n",
              "History & Civics, Applied Learning               42\n",
              "Health & Sports, Warmth, Care & Hunger           23\n",
              "Special Needs, Warmth, Care & Hunger             23\n",
              "Music & The Arts, Health & Sports                19\n",
              "Music & The Arts, History & Civics               18\n",
              "History & Civics, Health & Sports                13\n",
              "Math & Science, Warmth, Care & Hunger            11\n",
              "Music & The Arts, Applied Learning               10\n",
              "Applied Learning, Warmth, Care & Hunger          10\n",
              "Literacy & Language, Warmth, Care & Hunger        9\n",
              "Music & The Arts, Warmth, Care & Hunger           2\n",
              "History & Civics, Warmth, Care & Hunger           1\n",
              "Name: project_subject_categories, dtype: int64"
            ]
          },
          "metadata": {
            "tags": []
          },
          "execution_count": 10
        }
      ]
    },
    {
      "cell_type": "markdown",
      "metadata": {
        "colab_type": "text",
        "id": "oFit-s-3UarF"
      },
      "source": [
        ">remove spaces, 'the' <br>\n",
        "replace '&' with '\\_', and ',' with '_'"
      ]
    },
    {
      "cell_type": "code",
      "metadata": {
        "colab_type": "code",
        "id": "Q4VC_jRkUarJ",
        "outputId": "24010a83-a6c8-4703-a377-ec7c9d54e359",
        "scrolled": true,
        "colab": {
          "base_uri": "https://localhost:8080/",
          "height": 941
        }
      },
      "source": [
        "project_data['project_subject_categories'] = project_data['project_subject_categories'].str.replace(' The ','')\n",
        "project_data['project_subject_categories'] = project_data['project_subject_categories'].str.replace('&','')\n",
        "project_data['project_subject_categories'] = project_data['project_subject_categories'].str.replace(',','')\n",
        "project_data['project_subject_categories'] = project_data['project_subject_categories'].apply(lambda x: \" \".join(x.split()))\n",
        "project_data['project_subject_categories'] = project_data['project_subject_categories'].str.lower()\n",
        "project_data['project_subject_categories'].value_counts()"
      ],
      "execution_count": 0,
      "outputs": [
        {
          "output_type": "execute_result",
          "data": {
            "text/plain": [
              "literacy language                       23655\n",
              "math science                            17072\n",
              "literacy language math science          14636\n",
              "health sports                           10177\n",
              "music arts                               5180\n",
              "special needs                            4226\n",
              "literacy language special needs          3961\n",
              "applied learning                         3771\n",
              "math science literacy language           2289\n",
              "applied learning literacy language       2191\n",
              "history civics                           1851\n",
              "math science special needs               1840\n",
              "literacy language music arts             1757\n",
              "math science music arts                  1642\n",
              "applied learning special needs           1467\n",
              "history civics literacy language         1421\n",
              "health sports special needs              1391\n",
              "warmth care hunger                       1309\n",
              "math science applied learning            1220\n",
              "applied learning math science            1052\n",
              "literacy language history civics          809\n",
              "health sports literacy language           803\n",
              "applied learning music arts               758\n",
              "math science history civics               652\n",
              "literacy language applied learning        636\n",
              "applied learning health sports            608\n",
              "math science health sports                414\n",
              "history civics math science               322\n",
              "history civics music arts                 312\n",
              "special needs music arts                  302\n",
              "health sports math science                271\n",
              "history civics special needs              252\n",
              "health sports applied learning            192\n",
              "applied learning history civics           178\n",
              "health sports music arts                  155\n",
              "music arts special needs                  138\n",
              "literacy language health sports            72\n",
              "health sports history civics               43\n",
              "special needs health sports                42\n",
              "history civics applied learning            42\n",
              "special needs warmth care hunger           23\n",
              "health sports warmth care hunger           23\n",
              "music arts health sports                   19\n",
              "music arts history civics                  18\n",
              "history civics health sports               13\n",
              "math science warmth care hunger            11\n",
              "music arts applied learning                10\n",
              "applied learning warmth care hunger        10\n",
              "literacy language warmth care hunger        9\n",
              "music arts warmth care hunger               2\n",
              "history civics warmth care hunger           1\n",
              "Name: project_subject_categories, dtype: int64"
            ]
          },
          "metadata": {
            "tags": []
          },
          "execution_count": 11
        }
      ]
    },
    {
      "cell_type": "markdown",
      "metadata": {
        "colab_type": "text",
        "id": "qMSHR_oCUarP"
      },
      "source": [
        "# 4. Preprocessing Categorical Features: teacher_prefix"
      ]
    },
    {
      "cell_type": "code",
      "metadata": {
        "colab_type": "code",
        "id": "JvtDCVJMUarQ",
        "outputId": "a58e9f44-73b6-42cb-cff3-e1e128220837",
        "colab": {
          "base_uri": "https://localhost:8080/",
          "height": 123
        }
      },
      "source": [
        "project_data['teacher_prefix'].value_counts()"
      ],
      "execution_count": 0,
      "outputs": [
        {
          "output_type": "execute_result",
          "data": {
            "text/plain": [
              "Mrs.       57269\n",
              "Ms.        38955\n",
              "Mr.        10648\n",
              "Teacher     2360\n",
              "Dr.           13\n",
              "Name: teacher_prefix, dtype: int64"
            ]
          },
          "metadata": {
            "tags": []
          },
          "execution_count": 12
        }
      ]
    },
    {
      "cell_type": "code",
      "metadata": {
        "colab_type": "code",
        "id": "Xo30SACqUarW",
        "outputId": "9bf3fa5e-9f87-4849-b899-162da25eede8",
        "colab": {
          "base_uri": "https://localhost:8080/",
          "height": 52
        }
      },
      "source": [
        "# check if we have any nan values are there\n",
        "print(project_data['teacher_prefix'].isnull().values.any())\n",
        "print(\"number of nan values\",project_data['teacher_prefix'].isnull().values.sum())"
      ],
      "execution_count": 0,
      "outputs": [
        {
          "output_type": "stream",
          "text": [
            "True\n",
            "number of nan values 3\n"
          ],
          "name": "stdout"
        }
      ]
    },
    {
      "cell_type": "markdown",
      "metadata": {
        "colab_type": "text",
        "id": "6V609WmsUare"
      },
      "source": [
        ">numebr of missing values are very less in number, we can replace it with Mrs. as most of the projects are submitted by Mrs."
      ]
    },
    {
      "cell_type": "code",
      "metadata": {
        "colab_type": "code",
        "id": "4vMdk07mUari",
        "colab": {}
      },
      "source": [
        "project_data['teacher_prefix']=project_data['teacher_prefix'].fillna('Mrs.')"
      ],
      "execution_count": 0,
      "outputs": []
    },
    {
      "cell_type": "code",
      "metadata": {
        "colab_type": "code",
        "id": "Mf-9gOByUarm",
        "outputId": "355d3e15-7652-4508-c228-520b15f1758a",
        "colab": {
          "base_uri": "https://localhost:8080/",
          "height": 123
        }
      },
      "source": [
        "project_data['teacher_prefix'].value_counts()"
      ],
      "execution_count": 0,
      "outputs": [
        {
          "output_type": "execute_result",
          "data": {
            "text/plain": [
              "Mrs.       57272\n",
              "Ms.        38955\n",
              "Mr.        10648\n",
              "Teacher     2360\n",
              "Dr.           13\n",
              "Name: teacher_prefix, dtype: int64"
            ]
          },
          "metadata": {
            "tags": []
          },
          "execution_count": 15
        }
      ]
    },
    {
      "cell_type": "markdown",
      "metadata": {
        "colab_type": "text",
        "id": "KNLkXQDIUart"
      },
      "source": [
        ">Remove '.' <br>\n",
        ">convert all the chars to small"
      ]
    },
    {
      "cell_type": "code",
      "metadata": {
        "colab_type": "code",
        "id": "V6aVk9DWUaru",
        "outputId": "b924ae23-bd24-418f-c7b6-781b0755f3f4",
        "colab": {
          "base_uri": "https://localhost:8080/",
          "height": 123
        }
      },
      "source": [
        "project_data['teacher_prefix'] = project_data['teacher_prefix'].str.replace('.','')\n",
        "project_data['teacher_prefix'] = project_data['teacher_prefix'].str.lower()\n",
        "project_data['teacher_prefix'].value_counts()"
      ],
      "execution_count": 0,
      "outputs": [
        {
          "output_type": "execute_result",
          "data": {
            "text/plain": [
              "mrs        57272\n",
              "ms         38955\n",
              "mr         10648\n",
              "teacher     2360\n",
              "dr            13\n",
              "Name: teacher_prefix, dtype: int64"
            ]
          },
          "metadata": {
            "tags": []
          },
          "execution_count": 16
        }
      ]
    },
    {
      "cell_type": "markdown",
      "metadata": {
        "colab_type": "text",
        "id": "UEHHk2f_Uar9"
      },
      "source": [
        "# 5. Preprocessing Categorical Features: project_subject_subcategories"
      ]
    },
    {
      "cell_type": "code",
      "metadata": {
        "colab_type": "code",
        "id": "9DGAATzDUasD",
        "outputId": "651c032a-87c6-46bf-d359-0a187153afc0",
        "scrolled": true,
        "colab": {
          "base_uri": "https://localhost:8080/",
          "height": 1118
        }
      },
      "source": [
        "project_data['project_subject_subcategories'].value_counts()"
      ],
      "execution_count": 0,
      "outputs": [
        {
          "output_type": "execute_result",
          "data": {
            "text/plain": [
              "Literacy                                        9486\n",
              "Literacy, Mathematics                           8325\n",
              "Literature & Writing, Mathematics               5923\n",
              "Literacy, Literature & Writing                  5571\n",
              "Mathematics                                     5379\n",
              "Literature & Writing                            4501\n",
              "Special Needs                                   4226\n",
              "Health & Wellness                               3583\n",
              "Applied Sciences, Mathematics                   3399\n",
              "Applied Sciences                                2492\n",
              "Literacy, Special Needs                         2440\n",
              "Gym & Fitness, Health & Wellness                2264\n",
              "ESL, Literacy                                   2234\n",
              "Visual Arts                                     2217\n",
              "Music                                           1472\n",
              "Warmth, Care & Hunger                           1309\n",
              "Literature & Writing, Special Needs             1306\n",
              "Gym & Fitness                                   1195\n",
              "Health & Wellness, Special Needs                1189\n",
              "Mathematics, Special Needs                      1187\n",
              "Environmental Science                           1079\n",
              "Team Sports                                     1061\n",
              "Applied Sciences, Environmental Science          984\n",
              "Environmental Science, Health & Life Science     964\n",
              "Music, Performing Arts                           948\n",
              "Early Development                                905\n",
              "Environmental Science, Mathematics               838\n",
              "Other                                            831\n",
              "Health & Life Science                            827\n",
              "Health & Wellness, Nutrition Education           797\n",
              "                                                ... \n",
              "Nutrition Education, Social Sciences               2\n",
              "Financial Literacy, Parent Involvement             2\n",
              "Character Education, Economics                     2\n",
              "Financial Literacy, Health & Wellness              2\n",
              "Visual Arts, Warmth, Care & Hunger                 2\n",
              "Social Sciences, Team Sports                       2\n",
              "Economics, Music                                   1\n",
              "Financial Literacy, Foreign Languages              1\n",
              "History & Geography, Warmth, Care & Hunger         1\n",
              "College & Career Prep, Warmth, Care & Hunger       1\n",
              "Gym & Fitness, Warmth, Care & Hunger               1\n",
              "Community Service, Financial Literacy              1\n",
              "Community Service, Music                           1\n",
              "Economics, Foreign Languages                       1\n",
              "Other, Warmth, Care & Hunger                       1\n",
              "ESL, Team Sports                                   1\n",
              "Community Service, Gym & Fitness                   1\n",
              "Gym & Fitness, Parent Involvement                  1\n",
              "Extracurricular, Financial Literacy                1\n",
              "Financial Literacy, Performing Arts                1\n",
              "Civics & Government, Nutrition Education           1\n",
              "Civics & Government, Parent Involvement            1\n",
              "Parent Involvement, Warmth, Care & Hunger          1\n",
              "Economics, Nutrition Education                     1\n",
              "Civics & Government, Foreign Languages             1\n",
              "ESL, Economics                                     1\n",
              "Economics, Other                                   1\n",
              "Literature & Writing, Nutrition Education          1\n",
              "Gym & Fitness, Social Sciences                     1\n",
              "Parent Involvement, Team Sports                    1\n",
              "Name: project_subject_subcategories, Length: 401, dtype: int64"
            ]
          },
          "metadata": {
            "tags": []
          },
          "execution_count": 17
        }
      ]
    },
    {
      "cell_type": "markdown",
      "metadata": {
        "colab_type": "text",
        "id": "g_z8rewaUasW"
      },
      "source": [
        "> same process we did in project_subject_categories"
      ]
    },
    {
      "cell_type": "code",
      "metadata": {
        "colab_type": "code",
        "id": "aVAtfF_jUasX",
        "outputId": "79abaae1-d4a9-42e7-a17e-a8d470a563ef",
        "scrolled": true,
        "colab": {
          "base_uri": "https://localhost:8080/",
          "height": 1118
        }
      },
      "source": [
        "project_data['project_subject_subcategories'] = project_data['project_subject_subcategories'].str.replace(' The ','')\n",
        "project_data['project_subject_subcategories'] = project_data['project_subject_subcategories'].str.replace('&','')\n",
        "project_data['project_subject_subcategories'] = project_data['project_subject_subcategories'].str.replace(',','')\n",
        "project_data['project_subject_subcategories'] = project_data['project_subject_subcategories'].apply(lambda x: \" \".join(x.split()))\n",
        "project_data['project_subject_subcategories'] = project_data['project_subject_subcategories'].str.lower()\n",
        "project_data['project_subject_subcategories'].value_counts()"
      ],
      "execution_count": 0,
      "outputs": [
        {
          "output_type": "execute_result",
          "data": {
            "text/plain": [
              "literacy                                     9486\n",
              "literacy mathematics                         8325\n",
              "literature writing mathematics               5923\n",
              "literacy literature writing                  5571\n",
              "mathematics                                  5379\n",
              "literature writing                           4501\n",
              "special needs                                4226\n",
              "health wellness                              3583\n",
              "applied sciences mathematics                 3399\n",
              "applied sciences                             2492\n",
              "literacy special needs                       2440\n",
              "gym fitness health wellness                  2264\n",
              "esl literacy                                 2234\n",
              "visual arts                                  2217\n",
              "music                                        1472\n",
              "warmth care hunger                           1309\n",
              "literature writing special needs             1306\n",
              "gym fitness                                  1195\n",
              "health wellness special needs                1189\n",
              "mathematics special needs                    1187\n",
              "environmental science                        1079\n",
              "team sports                                  1061\n",
              "applied sciences environmental science        984\n",
              "environmental science health life science     964\n",
              "music performing arts                         948\n",
              "early development                             905\n",
              "environmental science mathematics             838\n",
              "other                                         831\n",
              "health life science                           827\n",
              "health wellness nutrition education           797\n",
              "                                             ... \n",
              "extracurricular foreign languages               2\n",
              "civics government extracurricular               2\n",
              "civics government team sports                   2\n",
              "character education nutrition education         2\n",
              "nutrition education social sciences             2\n",
              "civics government health wellness               2\n",
              "civics government parent involvement            1\n",
              "esl economics                                   1\n",
              "economics other                                 1\n",
              "parent involvement team sports                  1\n",
              "financial literacy performing arts              1\n",
              "other warmth care hunger                        1\n",
              "civics government foreign languages             1\n",
              "literature writing nutrition education          1\n",
              "parent involvement warmth care hunger           1\n",
              "gym fitness warmth care hunger                  1\n",
              "esl team sports                                 1\n",
              "community service financial literacy            1\n",
              "community service music                         1\n",
              "economics music                                 1\n",
              "history geography warmth care hunger            1\n",
              "economics nutrition education                   1\n",
              "gym fitness social sciences                     1\n",
              "civics government nutrition education           1\n",
              "gym fitness parent involvement                  1\n",
              "extracurricular financial literacy              1\n",
              "financial literacy foreign languages            1\n",
              "college career prep warmth care hunger          1\n",
              "economics foreign languages                     1\n",
              "community service gym fitness                   1\n",
              "Name: project_subject_subcategories, Length: 401, dtype: int64"
            ]
          },
          "metadata": {
            "tags": []
          },
          "execution_count": 18
        }
      ]
    },
    {
      "cell_type": "markdown",
      "metadata": {
        "colab_type": "text",
        "id": "PSCGFt7NUasf"
      },
      "source": [
        "# 6. Preprocessing Categorical Features: school_state"
      ]
    },
    {
      "cell_type": "code",
      "metadata": {
        "colab_type": "code",
        "id": "lSejagwTUash",
        "outputId": "5cad3863-da5c-4bca-aadf-5424a737f81e",
        "scrolled": true,
        "colab": {
          "base_uri": "https://localhost:8080/",
          "height": 941
        }
      },
      "source": [
        "project_data['school_state'].value_counts()"
      ],
      "execution_count": 0,
      "outputs": [
        {
          "output_type": "execute_result",
          "data": {
            "text/plain": [
              "CA    15388\n",
              "TX     7396\n",
              "NY     7318\n",
              "FL     6185\n",
              "NC     5091\n",
              "IL     4350\n",
              "GA     3963\n",
              "SC     3936\n",
              "MI     3161\n",
              "PA     3109\n",
              "IN     2620\n",
              "MO     2576\n",
              "OH     2467\n",
              "LA     2394\n",
              "MA     2389\n",
              "WA     2334\n",
              "OK     2276\n",
              "NJ     2237\n",
              "AZ     2147\n",
              "VA     2045\n",
              "WI     1827\n",
              "AL     1762\n",
              "UT     1731\n",
              "TN     1688\n",
              "CT     1663\n",
              "MD     1514\n",
              "NV     1367\n",
              "MS     1323\n",
              "KY     1304\n",
              "OR     1242\n",
              "MN     1208\n",
              "CO     1111\n",
              "AR     1049\n",
              "ID      693\n",
              "IA      666\n",
              "KS      634\n",
              "NM      557\n",
              "DC      516\n",
              "HI      507\n",
              "ME      505\n",
              "WV      503\n",
              "NH      348\n",
              "AK      345\n",
              "DE      343\n",
              "NE      309\n",
              "SD      300\n",
              "RI      285\n",
              "MT      245\n",
              "ND      143\n",
              "WY       98\n",
              "VT       80\n",
              "Name: school_state, dtype: int64"
            ]
          },
          "metadata": {
            "tags": []
          },
          "execution_count": 19
        }
      ]
    },
    {
      "cell_type": "markdown",
      "metadata": {
        "colab_type": "text",
        "id": "agsAlMeTUasm"
      },
      "source": [
        ">convert all of them into small letters"
      ]
    },
    {
      "cell_type": "code",
      "metadata": {
        "colab_type": "code",
        "id": "22WMvNJFUasp",
        "outputId": "6c40daa7-9d95-4d82-fb83-23edf21f41e7",
        "scrolled": true,
        "colab": {
          "base_uri": "https://localhost:8080/",
          "height": 941
        }
      },
      "source": [
        "project_data['school_state'] = project_data['school_state'].str.lower()\n",
        "project_data['school_state'].value_counts()"
      ],
      "execution_count": 0,
      "outputs": [
        {
          "output_type": "execute_result",
          "data": {
            "text/plain": [
              "ca    15388\n",
              "tx     7396\n",
              "ny     7318\n",
              "fl     6185\n",
              "nc     5091\n",
              "il     4350\n",
              "ga     3963\n",
              "sc     3936\n",
              "mi     3161\n",
              "pa     3109\n",
              "in     2620\n",
              "mo     2576\n",
              "oh     2467\n",
              "la     2394\n",
              "ma     2389\n",
              "wa     2334\n",
              "ok     2276\n",
              "nj     2237\n",
              "az     2147\n",
              "va     2045\n",
              "wi     1827\n",
              "al     1762\n",
              "ut     1731\n",
              "tn     1688\n",
              "ct     1663\n",
              "md     1514\n",
              "nv     1367\n",
              "ms     1323\n",
              "ky     1304\n",
              "or     1242\n",
              "mn     1208\n",
              "co     1111\n",
              "ar     1049\n",
              "id      693\n",
              "ia      666\n",
              "ks      634\n",
              "nm      557\n",
              "dc      516\n",
              "hi      507\n",
              "me      505\n",
              "wv      503\n",
              "nh      348\n",
              "ak      345\n",
              "de      343\n",
              "ne      309\n",
              "sd      300\n",
              "ri      285\n",
              "mt      245\n",
              "nd      143\n",
              "wy       98\n",
              "vt       80\n",
              "Name: school_state, dtype: int64"
            ]
          },
          "metadata": {
            "tags": []
          },
          "execution_count": 20
        }
      ]
    },
    {
      "cell_type": "markdown",
      "metadata": {
        "colab_type": "text",
        "id": "mLZsba21Uasy"
      },
      "source": [
        "# 7. Preprocessing Categorical Features: project_title"
      ]
    },
    {
      "cell_type": "code",
      "metadata": {
        "colab_type": "code",
        "id": "K3AifPSVUasz",
        "colab": {}
      },
      "source": [
        "# https://stackoverflow.com/a/47091490/4084039\n",
        "import re\n",
        "\n",
        "def decontracted(phrase):\n",
        "    # specific\n",
        "    phrase = re.sub(r\"won't\", \"will not\", phrase)\n",
        "    phrase = re.sub(r\"can\\'t\", \"can not\", phrase)\n",
        "\n",
        "    # general\n",
        "    phrase = re.sub(r\"n\\'t\", \" not\", phrase)\n",
        "    phrase = re.sub(r\"\\'re\", \" are\", phrase)\n",
        "    phrase = re.sub(r\"\\'s\", \" is\", phrase)\n",
        "    phrase = re.sub(r\"\\'d\", \" would\", phrase)\n",
        "    phrase = re.sub(r\"\\'ll\", \" will\", phrase)\n",
        "    phrase = re.sub(r\"\\'t\", \" not\", phrase)\n",
        "    phrase = re.sub(r\"\\'ve\", \" have\", phrase)\n",
        "    phrase = re.sub(r\"\\'m\", \" am\", phrase)\n",
        "    return phrase"
      ],
      "execution_count": 0,
      "outputs": []
    },
    {
      "cell_type": "code",
      "metadata": {
        "colab_type": "code",
        "id": "5I1T97IxUas6",
        "colab": {}
      },
      "source": [
        "# https://gist.github.com/sebleier/554280\n",
        "# we are removing the words from the stop words list: 'no', 'nor', 'not'\n",
        "stopwords= ['i', 'me', 'my', 'myself', 'we', 'our', 'ours', 'ourselves', 'you', \"you're\", \"you've\",\\\n",
        "            \"you'll\", \"you'd\", 'your', 'yours', 'yourself', 'yourselves', 'he', 'him', 'his', 'himself', \\\n",
        "            'she', \"she's\", 'her', 'hers', 'herself', 'it', \"it's\", 'its', 'itself', 'they', 'them', 'their',\\\n",
        "            'theirs', 'themselves', 'what', 'which', 'who', 'whom', 'this', 'that', \"that'll\", 'these', 'those', \\\n",
        "            'am', 'is', 'are', 'was', 'were', 'be', 'been', 'being', 'have', 'has', 'had', 'having', 'do', 'does', \\\n",
        "            'did', 'doing', 'a', 'an', 'the', 'and', 'but', 'if', 'or', 'because', 'as', 'until', 'while', 'of', \\\n",
        "            'at', 'by', 'for', 'with', 'about', 'against', 'between', 'into', 'through', 'during', 'before', 'after',\\\n",
        "            'above', 'below', 'to', 'from', 'up', 'down', 'in', 'out', 'on', 'off', 'over', 'under', 'again', 'further',\\\n",
        "            'then', 'once', 'here', 'there', 'when', 'where', 'why', 'how', 'all', 'any', 'both', 'each', 'few', 'more',\\\n",
        "            'most', 'other', 'some', 'such', 'only', 'own', 'same', 'so', 'than', 'too', 'very', \\\n",
        "            's', 't', 'can', 'will', 'just', 'don', \"don't\", 'should', \"should've\", 'now', 'd', 'll', 'm', 'o', 're', \\\n",
        "            've', 'y', 'ain', 'aren', \"aren't\", 'couldn', \"couldn't\", 'didn', \"didn't\", 'doesn', \"doesn't\", 'hadn',\\\n",
        "            \"hadn't\", 'hasn', \"hasn't\", 'haven', \"haven't\", 'isn', \"isn't\", 'ma', 'mightn', \"mightn't\", 'mustn',\\\n",
        "            \"mustn't\", 'needn', \"needn't\", 'shan', \"shan't\", 'shouldn', \"shouldn't\", 'wasn', \"wasn't\", 'weren', \"weren't\", \\\n",
        "            'won', \"won't\", 'wouldn', \"wouldn't\"]"
      ],
      "execution_count": 0,
      "outputs": []
    },
    {
      "cell_type": "code",
      "metadata": {
        "colab_type": "code",
        "id": "3G9AuhgIUatB",
        "outputId": "55a8d88a-2ebe-462c-ce6f-7bef58c6eabe",
        "colab": {
          "base_uri": "https://localhost:8080/",
          "height": 123
        }
      },
      "source": [
        "project_data['project_title'].head(5)"
      ],
      "execution_count": 0,
      "outputs": [
        {
          "output_type": "execute_result",
          "data": {
            "text/plain": [
              "0     Educational Support for English Learners at Home\n",
              "1                Wanted: Projector for Hungry Learners\n",
              "2    Soccer Equipment for AWESOME Middle School Stu...\n",
              "3                               Techie Kindergarteners\n",
              "4                               Interactive Math Tools\n",
              "Name: project_title, dtype: object"
            ]
          },
          "metadata": {
            "tags": []
          },
          "execution_count": 23
        }
      ]
    },
    {
      "cell_type": "code",
      "metadata": {
        "colab_type": "code",
        "id": "jLa1pv0VUatJ",
        "outputId": "16b4f2e7-1f95-4309-a4c9-977500eec5d5",
        "colab": {
          "base_uri": "https://localhost:8080/",
          "height": 87
        }
      },
      "source": [
        "print(\"printing some random reviews\")\n",
        "print(9, project_data['project_title'].values[9])\n",
        "print(34, project_data['project_title'].values[34])\n",
        "print(147, project_data['project_title'].values[147])"
      ],
      "execution_count": 0,
      "outputs": [
        {
          "output_type": "stream",
          "text": [
            "printing some random reviews\n",
            "9 Just For the Love of Reading--\\r\\nPure Pleasure\n",
            "34 \\\"Have A Ball!!!\\\"\n",
            "147 Who needs a Chromebook?\\r\\nWE DO!!\n"
          ],
          "name": "stdout"
        }
      ]
    },
    {
      "cell_type": "code",
      "metadata": {
        "colab_type": "code",
        "id": "r07-MyZIUatP",
        "colab": {}
      },
      "source": [
        "# Combining all the above stundents \n",
        "from tqdm import tqdm\n",
        "def preprocess_text(text_data):\n",
        "    preprocessed_text = []\n",
        "    # tqdm is for printing the status bar\n",
        "    for sentance in tqdm(text_data):\n",
        "        sent = decontracted(sentance)\n",
        "        sent = sent.replace('\\\\r', ' ')\n",
        "        sent = sent.replace('\\\\n', ' ')\n",
        "        sent = sent.replace('\\\\\"', ' ')\n",
        "        sent = re.sub('[^A-Za-z0-9]+', ' ', sent)\n",
        "        # https://gist.github.com/sebleier/554280\n",
        "        sent = ' '.join(e for e in sent.split() if e.lower() not in stopwords)\n",
        "        preprocessed_text.append(sent.lower().strip())\n",
        "    return preprocessed_text"
      ],
      "execution_count": 0,
      "outputs": []
    },
    {
      "cell_type": "code",
      "metadata": {
        "colab_type": "code",
        "id": "PSVwIVupUatU",
        "outputId": "d5b036d2-4e75-4616-f59f-108a9dddf307",
        "colab": {
          "base_uri": "https://localhost:8080/",
          "height": 34
        }
      },
      "source": [
        "preprocessed_titles = preprocess_text(project_data['project_title'].values)"
      ],
      "execution_count": 0,
      "outputs": [
        {
          "output_type": "stream",
          "text": [
            "100%|███████████████████████████████████████████████████████████████████████| 109248/109248 [00:04<00:00, 22666.14it/s]\n"
          ],
          "name": "stderr"
        }
      ]
    },
    {
      "cell_type": "code",
      "metadata": {
        "colab_type": "code",
        "id": "PsvGk8uXUatb",
        "outputId": "4c6f4f56-fd97-4fbe-9081-6ad417d1df08",
        "colab": {
          "base_uri": "https://localhost:8080/",
          "height": 87
        }
      },
      "source": [
        "print(\"printing some random reviews\")\n",
        "print(9, preprocessed_titles[9])\n",
        "print(34, preprocessed_titles[34])\n",
        "print(147, preprocessed_titles[147])"
      ],
      "execution_count": 0,
      "outputs": [
        {
          "output_type": "stream",
          "text": [
            "printing some random reviews\n",
            "9 love reading pure pleasure\n",
            "34 ball\n",
            "147 needs chromebook\n"
          ],
          "name": "stdout"
        }
      ]
    },
    {
      "cell_type": "markdown",
      "metadata": {
        "colab_type": "text",
        "id": "e7mf6HF3Uati"
      },
      "source": [
        "# 8. Preprocessing Categorical Features: essay"
      ]
    },
    {
      "cell_type": "code",
      "metadata": {
        "colab_type": "code",
        "id": "15QF5jaNUatj",
        "colab": {}
      },
      "source": [
        "# merge two column text dataframe: \n",
        "project_data[\"essay\"] = project_data[\"project_essay_1\"].map(str) +\\\n",
        "                        project_data[\"project_essay_2\"].map(str) + \\\n",
        "                        project_data[\"project_essay_3\"].map(str) + \\\n",
        "                        project_data[\"project_essay_4\"].map(str)"
      ],
      "execution_count": 0,
      "outputs": []
    },
    {
      "cell_type": "code",
      "metadata": {
        "colab_type": "code",
        "id": "5UPb-fILUatm",
        "outputId": "b7c409ca-0cec-46af-9e47-bed5f6802089",
        "scrolled": true,
        "colab": {
          "base_uri": "https://localhost:8080/",
          "height": 143
        }
      },
      "source": [
        "print(\"printing some random essay\")\n",
        "print(9, project_data['essay'].values[9])\n",
        "print('-'*50)\n",
        "print(34, project_data['essay'].values[34])\n",
        "print('-'*50)\n",
        "print(147, project_data['essay'].values[147])"
      ],
      "execution_count": 0,
      "outputs": [
        {
          "output_type": "stream",
          "text": [
            "printing some random essay\n",
            "9 Over 95% of my students are on free or reduced lunch.  I have a few who are homeless, but despite that, they come to school with an eagerness to learn.  My students are inquisitive eager learners who  embrace the challenge of not having great books and other resources  every day.  Many of them are not afforded the opportunity to engage with these big colorful pages of a book on a regular basis at home and they don't travel to the public library.  \\r\\nIt is my duty as a teacher to do all I can to provide each student an opportunity to succeed in every aspect of life. \\r\\nReading is Fundamental! My students will read these books over and over again while boosting their comprehension skills. These books will be used for read alouds, partner reading and for Independent reading. \\r\\nThey will engage in reading to build their \\\"Love for Reading\\\" by reading for pure enjoyment. They will be introduced to some new authors as well as some old favorites. I want my students to be ready for the 21st Century and know the pleasure of holding a good hard back book in hand. There's nothing like a good book to read!  \\r\\nMy students will soar in Reading, and more because of your consideration and generous funding contribution. This will help build stamina and prepare for 3rd grade. Thank you so much for reading our proposal!nannan\n",
            "--------------------------------------------------\n",
            "34 My students mainly come from extremely low-income families, and the majority of them come from homes where both parents work full time. Most of my students are at school from 7:30 am to 6:00 pm (2:30 to 6:00 pm in the after-school program), and they all receive free and reduced meals for breakfast and lunch. \\r\\n\\r\\n\\r\\nI want my students to feel  as comfortable in my classroom as they do at home. Many of my students take on multiple roles both at home as well as in school. They are sometimes the caretakers of younger siblings, cooks, babysitters, academics, friends, and most of all, they are developing who they are going to become as adults.  I consider it an essential part of my job to model helping others gain knowledge in a positive manner. As a result, I have a community of students who love helping each other in and outside of the classroom. They consistently look for opportunities to support each other's learning in a kind and helpful way.I am excited to be experimenting with alternative seating in my classroom this school year. Studies have shown that giving students the option of where they sit in a classroom increases focus as well as motivation.  \\r\\n\\r\\nBy allowing students choice in the classroom, they are able to explore and create in a welcoming environment. Alternative classroom seating has been experimented with more frequently in recent years. I believe (along with many others), that every child learns differently. This does not only apply to how multiplication is memorized, or a paper is written, but applies to the space in which they are asked to work. I have had students in the past ask \\\"Can I work in the library? Can I work on the carpet?\\\" My answer was always, \\\"As long as you're learning, you can work wherever you want!\\\" \\r\\n\\r\\nWith the yoga balls and the lap-desks, I will be able to increase the options for seating in my classroom and expand its imaginable space.nannan\n",
            "--------------------------------------------------\n",
            "147 My students are eager to learn and make their mark on the world.\\r\\n\\r\\nThey come from a Title 1 school and need extra love.\\r\\n\\r\\nMy fourth grade students are in a high poverty area and still come to school every day to get their education. I am trying to make it fun and educational for them so they can get the most out of their schooling. I created a caring environment for the students to bloom! They deserve the best.\\r\\nThank you!\\r\\nI am requesting 1 Chromebook to access online interventions, differentiate instruction, and get extra practice. The Chromebook will be used to supplement ELA and math instruction. Students will play ELA and math games that are engaging and fun, as well as participate in assignments online. This in turn will help my students improve their skills. Having a Chromebook in the classroom would not only allow students to use the programs at their own pace, but would ensure more students are getting adequate time to use the programs. The online programs have been especially beneficial to my students with special needs. They are able to work at their level as well as be challenged with some different materials. This is making these students more confident in their abilities.\\r\\n\\r\\nThe Chromebook would allow my students to have daily access to computers and increase their computing skills.\\r\\nThis will change their lives for the better as they become more successful in school. Having access to technology in the classroom would help bridge the achievement gap.nannan\n"
          ],
          "name": "stdout"
        }
      ]
    },
    {
      "cell_type": "code",
      "metadata": {
        "colab_type": "code",
        "id": "Z6suF8lfUatr",
        "outputId": "a01c187d-dcd4-45dd-919a-791779f70105",
        "colab": {
          "base_uri": "https://localhost:8080/",
          "height": 34
        }
      },
      "source": [
        "preprocessed_essays = preprocess_text(project_data['essay'].values)"
      ],
      "execution_count": 0,
      "outputs": [
        {
          "output_type": "stream",
          "text": [
            "100%|████████████████████████████████████████████████████████████████████████| 109248/109248 [01:43<00:00, 1059.28it/s]\n"
          ],
          "name": "stderr"
        }
      ]
    },
    {
      "cell_type": "code",
      "metadata": {
        "colab_type": "code",
        "id": "NjwvBR8wUat0",
        "outputId": "b24654f8-d780-4879-92a7-ca6583fb3556",
        "scrolled": true,
        "colab": {
          "base_uri": "https://localhost:8080/",
          "height": 143
        }
      },
      "source": [
        "print(\"printing some random essay\")\n",
        "print(9, preprocessed_essays[9])\n",
        "print('-'*50)\n",
        "print(34, preprocessed_essays[34])\n",
        "print('-'*50)\n",
        "print(147, preprocessed_essays[147])"
      ],
      "execution_count": 0,
      "outputs": [
        {
          "output_type": "stream",
          "text": [
            "printing some random essay\n",
            "9 95 students free reduced lunch homeless despite come school eagerness learn students inquisitive eager learners embrace challenge not great books resources every day many not afforded opportunity engage big colorful pages book regular basis home not travel public library duty teacher provide student opportunity succeed every aspect life reading fundamental students read books boosting comprehension skills books used read alouds partner reading independent reading engage reading build love reading reading pure enjoyment introduced new authors well old favorites want students ready 21st century know pleasure holding good hard back book hand nothing like good book read students soar reading consideration generous funding contribution help build stamina prepare 3rd grade thank much reading proposal nannan\n",
            "--------------------------------------------------\n",
            "34 students mainly come extremely low income families majority come homes parents work full time students school 7 30 6 00 pm 2 30 6 00 pm school program receive free reduced meals breakfast lunch want students feel comfortable classroom home many students take multiple roles home well school sometimes caretakers younger siblings cooks babysitters academics friends developing going become adults consider essential part job model helping others gain knowledge positive manner result community students love helping outside classroom consistently look opportunities support learning kind helpful way excited experimenting alternative seating classroom school year studies shown giving students option sit classroom increases focus well motivation allowing students choice classroom able explore create welcoming environment alternative classroom seating experimented frequently recent years believe along many others every child learns differently not apply multiplication memorized paper written applies space asked work students past ask work library work carpet answer always long learning work wherever want yoga balls lap desks able increase options seating classroom expand imaginable space nannan\n",
            "--------------------------------------------------\n",
            "147 students eager learn make mark world come title 1 school need extra love fourth grade students high poverty area still come school every day get education trying make fun educational get schooling created caring environment students bloom deserve best thank requesting 1 chromebook access online interventions differentiate instruction get extra practice chromebook used supplement ela math instruction students play ela math games engaging fun well participate assignments online turn help students improve skills chromebook classroom would not allow students use programs pace would ensure students getting adequate time use programs online programs especially beneficial students special needs able work level well challenged different materials making students confident abilities chromebook would allow students daily access computers increase computing skills change lives better become successful school access technology classroom would help bridge achievement gap nannan\n"
          ],
          "name": "stdout"
        }
      ]
    },
    {
      "cell_type": "markdown",
      "metadata": {
        "colab_type": "text",
        "id": "X9CNgeHEUat5"
      },
      "source": [
        "# 8. Merging resource data with project data"
      ]
    },
    {
      "cell_type": "code",
      "metadata": {
        "colab_type": "code",
        "id": "By6tAVWMUat6",
        "outputId": "2e94ba83-1e90-4679-ba2d-8ddfcfb03566",
        "colab": {
          "base_uri": "https://localhost:8080/",
          "height": 107
        }
      },
      "source": [
        "# https://stackoverflow.com/questions/22407798/how-to-reset-a-dataframes-indexes-for-all-groups-in-one-step\n",
        "price_data = resource_data.groupby('id').agg({'price':'sum', 'quantity':'sum'}).reset_index()\n",
        "price_data.head(2)"
      ],
      "execution_count": 0,
      "outputs": [
        {
          "output_type": "execute_result",
          "data": {
            "text/html": [
              "<div>\n",
              "<style scoped>\n",
              "    .dataframe tbody tr th:only-of-type {\n",
              "        vertical-align: middle;\n",
              "    }\n",
              "\n",
              "    .dataframe tbody tr th {\n",
              "        vertical-align: top;\n",
              "    }\n",
              "\n",
              "    .dataframe thead th {\n",
              "        text-align: right;\n",
              "    }\n",
              "</style>\n",
              "<table border=\"1\" class=\"dataframe\">\n",
              "  <thead>\n",
              "    <tr style=\"text-align: right;\">\n",
              "      <th></th>\n",
              "      <th>id</th>\n",
              "      <th>price</th>\n",
              "      <th>quantity</th>\n",
              "    </tr>\n",
              "  </thead>\n",
              "  <tbody>\n",
              "    <tr>\n",
              "      <th>0</th>\n",
              "      <td>p000001</td>\n",
              "      <td>459.56</td>\n",
              "      <td>7</td>\n",
              "    </tr>\n",
              "    <tr>\n",
              "      <th>1</th>\n",
              "      <td>p000002</td>\n",
              "      <td>515.89</td>\n",
              "      <td>21</td>\n",
              "    </tr>\n",
              "  </tbody>\n",
              "</table>\n",
              "</div>"
            ],
            "text/plain": [
              "        id   price  quantity\n",
              "0  p000001  459.56         7\n",
              "1  p000002  515.89        21"
            ]
          },
          "metadata": {
            "tags": []
          },
          "execution_count": 32
        }
      ]
    },
    {
      "cell_type": "code",
      "metadata": {
        "colab_type": "code",
        "id": "MNDpYa9nUauB",
        "colab": {}
      },
      "source": [
        "# join two dataframes in python: \n",
        "project_data = pd.merge(project_data, price_data, on='id', how='left')"
      ],
      "execution_count": 0,
      "outputs": []
    },
    {
      "cell_type": "code",
      "metadata": {
        "colab_type": "code",
        "id": "fUkqxXpjUauE",
        "outputId": "9c3ed526-c680-4dc5-a94a-a6591ea1ca56",
        "colab": {
          "base_uri": "https://localhost:8080/",
          "height": 123
        }
      },
      "source": [
        "project_data['price'].head()"
      ],
      "execution_count": 0,
      "outputs": [
        {
          "output_type": "execute_result",
          "data": {
            "text/plain": [
              "0    154.60\n",
              "1    299.00\n",
              "2    516.85\n",
              "3    232.90\n",
              "4     67.98\n",
              "Name: price, dtype: float64"
            ]
          },
          "metadata": {
            "tags": []
          },
          "execution_count": 34
        }
      ]
    },
    {
      "cell_type": "markdown",
      "metadata": {
        "colab_type": "text",
        "id": "UtAHpwGSrB_o"
      },
      "source": [
        "# 9. Removing unwanted columns, adding processed text column and saving to csv"
      ]
    },
    {
      "cell_type": "code",
      "metadata": {
        "colab_type": "code",
        "id": "zvfI1BHul8iR",
        "colab": {}
      },
      "source": [
        "project_data=project_data.drop(labels=['Unnamed: 0', 'teacher_id', 'project_submitted_datetime', 'project_essay_1', \n",
        "                          'project_essay_2', 'project_essay_3', 'project_essay_4'],axis=1)\n"
      ],
      "execution_count": 0,
      "outputs": []
    },
    {
      "cell_type": "code",
      "metadata": {
        "colab_type": "code",
        "id": "wkMGQy5touUZ",
        "outputId": "f5c0e79b-6489-40f9-ee5e-5c5be0848bf9",
        "colab": {
          "base_uri": "https://localhost:8080/",
          "height": 34
        }
      },
      "source": [
        "preprocessed_summary = preprocess_text(project_data['project_resource_summary'].values)\n",
        "project_data['preprocessed_summary']= preprocessed_summary\n",
        "project_data['preprocessed_title']= preprocessed_titles\n",
        "project_data['preprocessed_essay']= preprocessed_essays\n",
        "\n",
        "# ref: https://stackoverflow.com/questions/19859282/check-if-a-string-contains-a-number\n",
        "def hasNumbers(inputString):\n",
        "  if any(char.isdigit() for char in inputString):\n",
        "    return 1\n",
        "  else:\n",
        "    return 0\n",
        "  \n",
        "project_data['has_number_in_summary'] = project_data['project_resource_summary'].apply(lambda x: hasNumbers(x)).values"
      ],
      "execution_count": 0,
      "outputs": [
        {
          "output_type": "stream",
          "text": [
            "100%|████████████████████████████████████████████████████████████████████████| 109248/109248 [00:11<00:00, 9775.54it/s]\n"
          ],
          "name": "stderr"
        }
      ]
    },
    {
      "cell_type": "code",
      "metadata": {
        "colab_type": "code",
        "id": "-2uGtAr2pJOK",
        "colab": {}
      },
      "source": [
        "project_data=project_data.drop(labels=['project_title', 'project_resource_summary', 'essay'],axis=1)\n"
      ],
      "execution_count": 0,
      "outputs": []
    },
    {
      "cell_type": "code",
      "metadata": {
        "colab_type": "code",
        "id": "NCKwOOivpgkc",
        "outputId": "04c96b24-bc4a-4eca-c919-94af511e8af9",
        "colab": {
          "base_uri": "https://localhost:8080/",
          "height": 194
        }
      },
      "source": [
        "project_data.head(2)"
      ],
      "execution_count": 0,
      "outputs": [
        {
          "output_type": "execute_result",
          "data": {
            "text/html": [
              "<div>\n",
              "<style scoped>\n",
              "    .dataframe tbody tr th:only-of-type {\n",
              "        vertical-align: middle;\n",
              "    }\n",
              "\n",
              "    .dataframe tbody tr th {\n",
              "        vertical-align: top;\n",
              "    }\n",
              "\n",
              "    .dataframe thead th {\n",
              "        text-align: right;\n",
              "    }\n",
              "</style>\n",
              "<table border=\"1\" class=\"dataframe\">\n",
              "  <thead>\n",
              "    <tr style=\"text-align: right;\">\n",
              "      <th></th>\n",
              "      <th>id</th>\n",
              "      <th>teacher_prefix</th>\n",
              "      <th>school_state</th>\n",
              "      <th>project_grade_category</th>\n",
              "      <th>project_subject_categories</th>\n",
              "      <th>project_subject_subcategories</th>\n",
              "      <th>teacher_number_of_previously_posted_projects</th>\n",
              "      <th>project_is_approved</th>\n",
              "      <th>price</th>\n",
              "      <th>quantity</th>\n",
              "      <th>preprocessed_summary</th>\n",
              "      <th>preprocessed_title</th>\n",
              "      <th>preprocessed_essay</th>\n",
              "      <th>has_number_in_summary</th>\n",
              "    </tr>\n",
              "  </thead>\n",
              "  <tbody>\n",
              "    <tr>\n",
              "      <th>0</th>\n",
              "      <td>p253737</td>\n",
              "      <td>mrs</td>\n",
              "      <td>in</td>\n",
              "      <td>grades_prek_2</td>\n",
              "      <td>literacy language</td>\n",
              "      <td>esl literacy</td>\n",
              "      <td>0</td>\n",
              "      <td>0</td>\n",
              "      <td>154.6</td>\n",
              "      <td>23</td>\n",
              "      <td>students need opportunities practice beginning...</td>\n",
              "      <td>educational support english learners home</td>\n",
              "      <td>students english learners working english seco...</td>\n",
              "      <td>0</td>\n",
              "    </tr>\n",
              "    <tr>\n",
              "      <th>1</th>\n",
              "      <td>p258326</td>\n",
              "      <td>mr</td>\n",
              "      <td>fl</td>\n",
              "      <td>grades_6_8</td>\n",
              "      <td>history civics health sports</td>\n",
              "      <td>civics government team sports</td>\n",
              "      <td>7</td>\n",
              "      <td>1</td>\n",
              "      <td>299.0</td>\n",
              "      <td>1</td>\n",
              "      <td>students need projector help viewing education...</td>\n",
              "      <td>wanted projector hungry learners</td>\n",
              "      <td>students arrive school eager learn polite gene...</td>\n",
              "      <td>0</td>\n",
              "    </tr>\n",
              "  </tbody>\n",
              "</table>\n",
              "</div>"
            ],
            "text/plain": [
              "        id teacher_prefix school_state project_grade_category  \\\n",
              "0  p253737            mrs           in          grades_prek_2   \n",
              "1  p258326             mr           fl             grades_6_8   \n",
              "\n",
              "     project_subject_categories  project_subject_subcategories  \\\n",
              "0             literacy language                   esl literacy   \n",
              "1  history civics health sports  civics government team sports   \n",
              "\n",
              "   teacher_number_of_previously_posted_projects  project_is_approved  price  \\\n",
              "0                                             0                    0  154.6   \n",
              "1                                             7                    1  299.0   \n",
              "\n",
              "   quantity                               preprocessed_summary  \\\n",
              "0        23  students need opportunities practice beginning...   \n",
              "1         1  students need projector help viewing education...   \n",
              "\n",
              "                          preprocessed_title  \\\n",
              "0  educational support english learners home   \n",
              "1           wanted projector hungry learners   \n",
              "\n",
              "                                  preprocessed_essay  has_number_in_summary  \n",
              "0  students english learners working english seco...                      0  \n",
              "1  students arrive school eager learn polite gene...                      0  "
            ]
          },
          "metadata": {
            "tags": []
          },
          "execution_count": 38
        }
      ]
    },
    {
      "cell_type": "code",
      "metadata": {
        "colab_type": "code",
        "id": "GmzN6sQktjZ1",
        "colab": {}
      },
      "source": [
        "project_data.to_csv(f'processed_project_data_f.csv')"
      ],
      "execution_count": 0,
      "outputs": []
    },
    {
      "cell_type": "markdown",
      "metadata": {
        "colab_type": "text",
        "id": "4sKsiCrSTAxi"
      },
      "source": [
        "# 10. Deep Learning Models"
      ]
    },
    {
      "cell_type": "markdown",
      "metadata": {
        "colab_type": "text",
        "id": "TsCZmhYCTAxj"
      },
      "source": [
        "## 10.1 Model 1\n",
        "\n",
        "<img src='https://i.imgur.com/w395Yk9.png'>\n",
        "\n",
        "- __Input_seq_total_text_data__ --- You have to give Total text data columns. After this use the Embedding layer to get word vectors. Use given predefined glove word vectors, don't train any word vectors. After this use LSTM and get the LSTM output and Flatten that output. \n",
        "- __Input_school_state__ --- Give 'school_state' column as input to embedding layer and Train the Keras Embedding layer. \n",
        "- __Project_grade_category__  --- Give 'project_grade_category' column as input to embedding layer and Train the Keras Embedding layer.\n",
        "- __Input_clean_categories__ --- Give 'input_clean_categories' column as input to embedding layer and Train the Keras Embedding layer.\n",
        "- __Input_clean_subcategories__ --- Give 'input_clean_subcategories' column as input to embedding layer and Train the Keras Embedding layer.\n",
        "- __Input_clean_subcategories__ --- Give 'input_teacher_prefix' column as input to embedding layer and Train the Keras Embedding layer.\n",
        "- __Input_remaining_teacher_number_of_previously_posted_projects._resource_summary_contains_numerical_digits._price._quantity__ ---concatenate remaining columns and add a Dense layer after that. \n",
        "\n"
      ]
    },
    {
      "cell_type": "code",
      "metadata": {
        "colab_type": "code",
        "id": "ywVds0dzuDFx",
        "colab": {}
      },
      "source": [
        "project_data = pd.read_csv('processed_project_data_f.csv', index_col=0)"
      ],
      "execution_count": 0,
      "outputs": []
    },
    {
      "cell_type": "code",
      "metadata": {
        "colab_type": "code",
        "id": "FMQVqEnwuzVW",
        "outputId": "c87da3bd-9873-4be0-efd1-c95d13d17ed7",
        "colab": {
          "base_uri": "https://localhost:8080/",
          "height": 194
        }
      },
      "source": [
        "project_data.head(2)"
      ],
      "execution_count": 0,
      "outputs": [
        {
          "output_type": "execute_result",
          "data": {
            "text/html": [
              "<div>\n",
              "<style scoped>\n",
              "    .dataframe tbody tr th:only-of-type {\n",
              "        vertical-align: middle;\n",
              "    }\n",
              "\n",
              "    .dataframe tbody tr th {\n",
              "        vertical-align: top;\n",
              "    }\n",
              "\n",
              "    .dataframe thead th {\n",
              "        text-align: right;\n",
              "    }\n",
              "</style>\n",
              "<table border=\"1\" class=\"dataframe\">\n",
              "  <thead>\n",
              "    <tr style=\"text-align: right;\">\n",
              "      <th></th>\n",
              "      <th>id</th>\n",
              "      <th>teacher_prefix</th>\n",
              "      <th>school_state</th>\n",
              "      <th>project_grade_category</th>\n",
              "      <th>project_subject_categories</th>\n",
              "      <th>project_subject_subcategories</th>\n",
              "      <th>teacher_number_of_previously_posted_projects</th>\n",
              "      <th>project_is_approved</th>\n",
              "      <th>price</th>\n",
              "      <th>quantity</th>\n",
              "      <th>preprocessed_summary</th>\n",
              "      <th>preprocessed_title</th>\n",
              "      <th>preprocessed_essay</th>\n",
              "      <th>has_number_in_summary</th>\n",
              "    </tr>\n",
              "  </thead>\n",
              "  <tbody>\n",
              "    <tr>\n",
              "      <th>0</th>\n",
              "      <td>p253737</td>\n",
              "      <td>mrs</td>\n",
              "      <td>in</td>\n",
              "      <td>grades_prek_2</td>\n",
              "      <td>literacy language</td>\n",
              "      <td>esl literacy</td>\n",
              "      <td>0</td>\n",
              "      <td>0</td>\n",
              "      <td>154.6</td>\n",
              "      <td>23</td>\n",
              "      <td>students need opportunities practice beginning...</td>\n",
              "      <td>educational support english learners home</td>\n",
              "      <td>students english learners working english seco...</td>\n",
              "      <td>0</td>\n",
              "    </tr>\n",
              "    <tr>\n",
              "      <th>1</th>\n",
              "      <td>p258326</td>\n",
              "      <td>mr</td>\n",
              "      <td>fl</td>\n",
              "      <td>grades_6_8</td>\n",
              "      <td>history civics health sports</td>\n",
              "      <td>civics government team sports</td>\n",
              "      <td>7</td>\n",
              "      <td>1</td>\n",
              "      <td>299.0</td>\n",
              "      <td>1</td>\n",
              "      <td>students need projector help viewing education...</td>\n",
              "      <td>wanted projector hungry learners</td>\n",
              "      <td>students arrive school eager learn polite gene...</td>\n",
              "      <td>0</td>\n",
              "    </tr>\n",
              "  </tbody>\n",
              "</table>\n",
              "</div>"
            ],
            "text/plain": [
              "        id teacher_prefix school_state project_grade_category  \\\n",
              "0  p253737            mrs           in          grades_prek_2   \n",
              "1  p258326             mr           fl             grades_6_8   \n",
              "\n",
              "     project_subject_categories  project_subject_subcategories  \\\n",
              "0             literacy language                   esl literacy   \n",
              "1  history civics health sports  civics government team sports   \n",
              "\n",
              "   teacher_number_of_previously_posted_projects  project_is_approved  price  \\\n",
              "0                                             0                    0  154.6   \n",
              "1                                             7                    1  299.0   \n",
              "\n",
              "   quantity                               preprocessed_summary  \\\n",
              "0        23  students need opportunities practice beginning...   \n",
              "1         1  students need projector help viewing education...   \n",
              "\n",
              "                          preprocessed_title  \\\n",
              "0  educational support english learners home   \n",
              "1           wanted projector hungry learners   \n",
              "\n",
              "                                  preprocessed_essay  has_number_in_summary  \n",
              "0  students english learners working english seco...                      0  \n",
              "1  students arrive school eager learn polite gene...                      0  "
            ]
          },
          "metadata": {
            "tags": []
          },
          "execution_count": 91
        }
      ]
    },
    {
      "cell_type": "code",
      "metadata": {
        "colab_type": "code",
        "id": "vWP7ycVGu1Pm",
        "colab": {}
      },
      "source": [
        "# train test split\n",
        "from sklearn.model_selection import train_test_split\n",
        "\n",
        "y = project_data['project_is_approved'].values\n",
        "df_x = project_data.drop(labels=['id', 'project_is_approved'], axis=1)\n",
        "\n",
        "X_tr_cv, X_test, y_tr_cv, y_test = train_test_split(df_x, y, test_size=0.2, random_state=23)\n",
        "X_train, X_cv, y_train, y_cv = train_test_split(X_tr_cv, y_tr_cv, test_size=0.2, random_state=33)"
      ],
      "execution_count": 0,
      "outputs": []
    },
    {
      "cell_type": "code",
      "metadata": {
        "colab_type": "code",
        "id": "BC65Ia3YyfvN",
        "outputId": "d7b3dad3-1dbd-4fa1-a70e-ffcfa1053546",
        "colab": {
          "base_uri": "https://localhost:8080/",
          "height": 52
        }
      },
      "source": [
        "print(\"Size of train dataset: {}\".format(X_train.shape[0]))\n",
        "print(\"Size of CV dataset: {}\".format(X_cv.shape[0]))\n",
        "print(\"Size of test dataset: {}\".format(X_test.shape[0]))"
      ],
      "execution_count": 0,
      "outputs": [
        {
          "output_type": "stream",
          "text": [
            "Size of train dataset: 69918\n",
            "Size of CV dataset: 17480\n",
            "Size of test dataset: 21850\n"
          ],
          "name": "stdout"
        }
      ]
    },
    {
      "cell_type": "code",
      "metadata": {
        "colab_type": "code",
        "id": "m5dki_zUzSew",
        "colab": {}
      },
      "source": [
        "text_feature = ['preprocessed_title', 'preprocessed_essay', 'preprocessed_summary']\n",
        "def combineText(df):\n",
        "    df[\"total_text\"]=''\n",
        "    for i in text_feature:\n",
        "        df[\"total_text\"] = df[\"total_text\"] + df[i] + ' '\n",
        "        \n",
        "combineText(X_train)\n",
        "combineText(X_cv)\n",
        "combineText(X_test)"
      ],
      "execution_count": 0,
      "outputs": []
    },
    {
      "cell_type": "code",
      "metadata": {
        "colab_type": "code",
        "id": "83vq17t1TAyT",
        "colab": {}
      },
      "source": [
        "from keras.preprocessing.text import Tokenizer\n",
        "from keras.preprocessing.sequence import pad_sequences\n",
        "from keras.models import Sequential\n",
        "from keras.layers import Dense, Flatten, Embedding, LSTM, Conv1D"
      ],
      "execution_count": 0,
      "outputs": []
    },
    {
      "cell_type": "code",
      "metadata": {
        "colab_type": "code",
        "id": "_stnfkr9z4PB",
        "outputId": "ec0cf7e7-a616-4c5e-9bd2-0bc65dc888aa",
        "colab": {
          "base_uri": "https://localhost:8080/",
          "height": 34
        }
      },
      "source": [
        "# ref: https://machinelearningmastery.com/use-word-embedding-layers-deep-learning-keras/\n",
        "\n",
        "t = Tokenizer()\n",
        "t.fit_on_texts(X_train[\"total_text\"].astype('str').tolist() ) \n",
        "vocab_size = len(t.word_index) + 1\n",
        "\n",
        "print(\"Vocabulary size is {}\".format(vocab_size))"
      ],
      "execution_count": 0,
      "outputs": [
        {
          "output_type": "stream",
          "text": [
            "Vocabulary size is 51333\n"
          ],
          "name": "stdout"
        }
      ]
    },
    {
      "cell_type": "code",
      "metadata": {
        "id": "joz6GpHTp_Z2",
        "colab_type": "code",
        "colab": {},
        "outputId": "1ad2e46f-edc8-4e38-db3d-c1cbfc5abe2a"
      },
      "source": [
        "# find the max text length\n",
        "#X_train['total_text'].str.split().apply(len).max()\n",
        "\n",
        "def max_length(series):\n",
        "    mlen = 0\n",
        "    for text in series:\n",
        "        slen = len(str(text).split())\n",
        "        if slen > mlen:\n",
        "            mlen = slen\n",
        "    print(mlen)\n",
        "        \n",
        "max_length(X_train['total_text'])"
      ],
      "execution_count": 0,
      "outputs": [
        {
          "output_type": "stream",
          "text": [
            "349\n"
          ],
          "name": "stdout"
        }
      ]
    },
    {
      "cell_type": "code",
      "metadata": {
        "colab_type": "code",
        "id": "6e3-HOZoTAyn",
        "colab": {}
      },
      "source": [
        "tknText_train = t.texts_to_sequences(X_train[\"total_text\"].astype('str').tolist())\n",
        "tknText_cv = t.texts_to_sequences(X_cv[\"total_text\"].astype('str').tolist())\n",
        "tknText_test = t.texts_to_sequences(X_test[\"total_text\"].astype('str').tolist())\n",
        "X_train_text = pad_sequences(tknText_train, maxlen=360, padding='post', truncating='post')\n",
        "X_cv_text = pad_sequences(tknText_cv, maxlen=360, padding='post', truncating='post')\n",
        "X_test_text = pad_sequences(tknText_test, maxlen=360, padding='post', truncating='post')"
      ],
      "execution_count": 0,
      "outputs": []
    },
    {
      "cell_type": "code",
      "metadata": {
        "colab_type": "code",
        "id": "HMxIIJjlTAyu",
        "outputId": "b5d77e01-93fd-4056-8aba-661a587fa334",
        "colab": {
          "base_uri": "https://localhost:8080/",
          "height": 34
        }
      },
      "source": [
        "# load the whole embedding into memory\n",
        "embeddings_index = dict()\n",
        "f = open('glove.42B.300d.txt', encoding='utf8')\n",
        "for line in tqdm(f):\n",
        "    values = line.split()\n",
        "    word = values[0]\n",
        "    coefs = np.asarray(values[1:], dtype='float32')\n",
        "    embeddings_index[word] = coefs\n",
        "f.close()\n",
        "print('Loaded %s word vectors.' % len(embeddings_index))"
      ],
      "execution_count": 0,
      "outputs": [
        {
          "output_type": "stream",
          "text": [
            "1917494it [03:28, 9212.42it/s] \n"
          ],
          "name": "stderr"
        },
        {
          "output_type": "stream",
          "text": [
            "Loaded 1917494 word vectors.\n"
          ],
          "name": "stdout"
        }
      ]
    },
    {
      "cell_type": "code",
      "metadata": {
        "colab_type": "code",
        "id": "LqeH6J-VTAy2",
        "colab": {}
      },
      "source": [
        "# create a weight matrix for words in training docs\n",
        "embedding_matrix = np.zeros((vocab_size, 300))\n",
        "for word, i in t.word_index.items():\n",
        "    embedding_vector = embeddings_index.get(word)\n",
        "    if embedding_vector is not None:\n",
        "        embedding_matrix[i] = embedding_vector\n",
        "\n",
        "del embeddings_index"
      ],
      "execution_count": 0,
      "outputs": []
    },
    {
      "cell_type": "code",
      "metadata": {
        "colab_type": "code",
        "id": "Q_n3CYC05kjr",
        "colab": {}
      },
      "source": [
        "# School state feature encoding for embedding layer\n",
        "from sklearn.preprocessing import StandardScaler\n",
        "enc =Tokenizer()\n",
        "enc.fit_on_texts(X_train['school_state'].values)\n",
        "vocab_size_state = len(enc.word_index) + 1\n",
        "train_state = enc.texts_to_sequences(X_train['school_state'].values)\n",
        "cv_state = enc.texts_to_sequences(X_cv['school_state'].values)\n",
        "test_state = enc.texts_to_sequences(X_test['school_state'].values)\n",
        "train_state = pad_sequences(train_state, maxlen=1)\n",
        "cv_state = pad_sequences(cv_state, maxlen=1)\n",
        "test_state = pad_sequences(test_state, maxlen=1)"
      ],
      "execution_count": 0,
      "outputs": []
    },
    {
      "cell_type": "code",
      "metadata": {
        "colab_type": "code",
        "id": "d_ulW00sTAy7",
        "colab": {}
      },
      "source": [
        "# project grade feature encoding for embedding layer\n",
        "enc =Tokenizer()\n",
        "enc.fit_on_texts(X_train['project_grade_category'].values)\n",
        "vocab_size_grade = len(enc.word_index) + 1\n",
        "train_grade = enc.texts_to_sequences(X_train['project_grade_category'].values)\n",
        "cv_grade = enc.texts_to_sequences(X_cv['project_grade_category'].values)\n",
        "test_grade = enc.texts_to_sequences(X_test['project_grade_category'].values)\n",
        "train_grade = pad_sequences(train_grade, maxlen=1)\n",
        "cv_grade = pad_sequences(cv_grade, maxlen=1)\n",
        "test_grade = pad_sequences(test_grade, maxlen=1)\n",
        "\n",
        "# project_subject_categories feature encoding for embedding layer\n",
        "enc =Tokenizer()\n",
        "enc.fit_on_texts(X_train['project_subject_categories'].values)\n",
        "vocab_size_cat = len(enc.word_index) + 1\n",
        "train_cat = enc.texts_to_sequences(X_train['project_subject_categories'].values)\n",
        "cv_cat = enc.texts_to_sequences(X_cv['project_subject_categories'].values)\n",
        "test_cat = enc.texts_to_sequences(X_test['project_subject_categories'].values)\n",
        "train_cat = pad_sequences(train_cat, maxlen=8, padding='post', truncating='post')\n",
        "cv_cat = pad_sequences(cv_cat, maxlen=8, padding='post', truncating='post')\n",
        "test_cat = pad_sequences(test_cat, maxlen=8, padding='post', truncating='post')\n",
        "\n",
        "                         \n",
        "# project_subject_subcategories feature encoding for embedding layer\n",
        "enc =Tokenizer()\n",
        "enc.fit_on_texts(X_train['project_subject_subcategories'].values)\n",
        "vocab_size_scat = len(enc.word_index) + 1\n",
        "train_scat = enc.texts_to_sequences(X_train['project_subject_subcategories'].values)\n",
        "cv_scat = enc.texts_to_sequences(X_cv['project_subject_subcategories'].values)\n",
        "test_scat = enc.texts_to_sequences(X_test['project_subject_subcategories'].values)\n",
        "train_scat = pad_sequences(train_scat, maxlen=8, padding='post', truncating='post')\n",
        "cv_scat  = pad_sequences(cv_scat, maxlen=8, padding='post', truncating='post')\n",
        "test_scat  = pad_sequences(test_scat, maxlen=8, padding='post', truncating='post')\n",
        "\n",
        "# teacher_prefix feature encoding for embedding layer\n",
        "enc =Tokenizer()\n",
        "enc.fit_on_texts(X_train['teacher_prefix'].values)\n",
        "vocab_size_tprefix = len(enc.word_index) + 1\n",
        "train_tprefix = enc.texts_to_sequences(X_train['teacher_prefix'].values)\n",
        "cv_tprefix = enc.texts_to_sequences(X_cv['teacher_prefix'].values)\n",
        "test_tprefix = enc.texts_to_sequences(X_test['teacher_prefix'].values)\n",
        "train_tprefix = pad_sequences(train_tprefix, maxlen=1)\n",
        "test_tprefix = pad_sequences(test_tprefix, maxlen=1)\n",
        "cv_tprefix = pad_sequences(cv_tprefix, maxlen=1)\n"
      ],
      "execution_count": 0,
      "outputs": []
    },
    {
      "cell_type": "code",
      "metadata": {
        "colab_type": "code",
        "id": "CbnhcJ-MTAy_",
        "colab": {}
      },
      "source": [
        "# numerical features\n",
        "\n",
        "numeric_ft = [\"teacher_number_of_previously_posted_projects\", \"price\", \"quantity\", \"has_number_in_summary\"]\n",
        "scaler = StandardScaler()\n",
        "num_train = scaler.fit_transform(X_train[numeric_ft])\n",
        "num_test = scaler.transform(X_test[numeric_ft])\n",
        "num_cv = scaler.transform(X_cv[numeric_ft])"
      ],
      "execution_count": 0,
      "outputs": []
    },
    {
      "cell_type": "code",
      "metadata": {
        "colab_type": "code",
        "id": "0b35lxNsTAzC",
        "outputId": "2ef84c48-f132-4001-b290-7cf6b167e062",
        "colab": {
          "base_uri": "https://localhost:8080/",
          "height": 1000
        }
      },
      "source": [
        "# model  bulding\n",
        "from keras.layers import concatenate, BatchNormalization, Dropout, Input, CuDNNLSTM, Bidirectional\n",
        "from keras.models import Model\n",
        "from keras import regularizers as rg\n",
        "\n",
        "text_input = Input(shape=(360,), name='text_input')\n",
        "x_text= Embedding(vocab_size, 300, weights=[embedding_matrix], input_length=360, trainable=False)(text_input)\n",
        "x_text = CuDNNLSTM(16, return_sequences=True, kernel_regularizer=rg.l2())(x_text)\n",
        "x_text = Flatten()(x_text)\n",
        "\n",
        "state_input = Input(shape=(1,), name='state_input')\n",
        "x_state= Embedding(vocab_size_state, 4)(state_input)\n",
        "x_state = Flatten()(x_state)\n",
        "\n",
        "grade_input = Input(shape=(1,), name='grade_input')\n",
        "x_grade= Embedding(vocab_size_grade, 4)(grade_input)\n",
        "x_grade = Flatten()(x_grade)\n",
        "\n",
        "cat_input = Input(shape=(8,), name='cat_input')\n",
        "x_cat= Embedding(vocab_size_cat, 16)(cat_input)\n",
        "x_cat = Flatten()(x_cat)\n",
        "\n",
        "scat_input = Input(shape=(8,), name='scat_input')\n",
        "x_scat= Embedding(vocab_size_scat, 16)(scat_input)\n",
        "x_scat = Flatten()(x_scat)\n",
        "\n",
        "tprefix_input = Input(shape=(1,), name='tprefix_input')\n",
        "x_tprefix= Embedding(vocab_size_tprefix, 4)(tprefix_input)\n",
        "x_tprefix = Flatten()(x_tprefix)\n",
        "\n",
        "num_input = Input(shape=(len(numeric_ft),), name='num_input')\n",
        "x_num= Dense(8, activation='relu', kernel_initializer='he_normal')(num_input)\n",
        "\n",
        "x = concatenate([x_text, x_state, x_grade, x_cat, x_scat, x_tprefix, x_num], name='concate')\n",
        "x = BatchNormalization()(x)\n",
        "x = Dropout(0.75)(x)\n",
        "\n",
        "x = Dense(96, activation='relu', kernel_initializer='he_normal') (x)\n",
        "x = BatchNormalization()(x)\n",
        "x = Dropout(0.85)(x)\n",
        "\n",
        "x = Dense(64, activation='relu', kernel_initializer='he_normal') (x)\n",
        "x = BatchNormalization()(x)\n",
        "x = Dropout(0.75)(x)\n",
        "\n",
        "x = Dense(32, activation='relu', kernel_initializer='he_normal') (x)\n",
        "x = BatchNormalization()(x)\n",
        "\n",
        "\n",
        "out_put = Dense(1, activation='sigmoid') (x)\n",
        "\n",
        "model = Model(inputs=[text_input, state_input, grade_input, cat_input, scat_input, tprefix_input, num_input],\n",
        "              outputs=out_put)\n",
        "\n",
        "model.summary()"
      ],
      "execution_count": 0,
      "outputs": [
        {
          "output_type": "stream",
          "text": [
            "__________________________________________________________________________________________________\n",
            "Layer (type)                    Output Shape         Param #     Connected to                     \n",
            "==================================================================================================\n",
            "text_input (InputLayer)         (None, 360)          0                                            \n",
            "__________________________________________________________________________________________________\n",
            "embedding_56 (Embedding)        (None, 360, 300)     15399900    text_input[0][0]                 \n",
            "__________________________________________________________________________________________________\n",
            "state_input (InputLayer)        (None, 1)            0                                            \n",
            "__________________________________________________________________________________________________\n",
            "grade_input (InputLayer)        (None, 1)            0                                            \n",
            "__________________________________________________________________________________________________\n",
            "cat_input (InputLayer)          (None, 8)            0                                            \n",
            "__________________________________________________________________________________________________\n",
            "scat_input (InputLayer)         (None, 8)            0                                            \n",
            "__________________________________________________________________________________________________\n",
            "tprefix_input (InputLayer)      (None, 1)            0                                            \n",
            "__________________________________________________________________________________________________\n",
            "cu_dnnlstm_11 (CuDNNLSTM)       (None, 360, 16)      20352       embedding_56[0][0]               \n",
            "__________________________________________________________________________________________________\n",
            "embedding_57 (Embedding)        (None, 1, 4)         208         state_input[0][0]                \n",
            "__________________________________________________________________________________________________\n",
            "embedding_58 (Embedding)        (None, 1, 4)         40          grade_input[0][0]                \n",
            "__________________________________________________________________________________________________\n",
            "embedding_59 (Embedding)        (None, 8, 16)        288         cat_input[0][0]                  \n",
            "__________________________________________________________________________________________________\n",
            "embedding_60 (Embedding)        (None, 8, 16)        784         scat_input[0][0]                 \n",
            "__________________________________________________________________________________________________\n",
            "embedding_61 (Embedding)        (None, 1, 4)         24          tprefix_input[0][0]              \n",
            "__________________________________________________________________________________________________\n",
            "num_input (InputLayer)          (None, 4)            0                                            \n",
            "__________________________________________________________________________________________________\n",
            "flatten_57 (Flatten)            (None, 5760)         0           cu_dnnlstm_11[0][0]              \n",
            "__________________________________________________________________________________________________\n",
            "flatten_58 (Flatten)            (None, 4)            0           embedding_57[0][0]               \n",
            "__________________________________________________________________________________________________\n",
            "flatten_59 (Flatten)            (None, 4)            0           embedding_58[0][0]               \n",
            "__________________________________________________________________________________________________\n",
            "flatten_60 (Flatten)            (None, 128)          0           embedding_59[0][0]               \n",
            "__________________________________________________________________________________________________\n",
            "flatten_61 (Flatten)            (None, 128)          0           embedding_60[0][0]               \n",
            "__________________________________________________________________________________________________\n",
            "flatten_62 (Flatten)            (None, 4)            0           embedding_61[0][0]               \n",
            "__________________________________________________________________________________________________\n",
            "dense_50 (Dense)                (None, 8)            40          num_input[0][0]                  \n",
            "__________________________________________________________________________________________________\n",
            "concate (Concatenate)           (None, 6036)         0           flatten_57[0][0]                 \n",
            "                                                                 flatten_58[0][0]                 \n",
            "                                                                 flatten_59[0][0]                 \n",
            "                                                                 flatten_60[0][0]                 \n",
            "                                                                 flatten_61[0][0]                 \n",
            "                                                                 flatten_62[0][0]                 \n",
            "                                                                 dense_50[0][0]                   \n",
            "__________________________________________________________________________________________________\n",
            "batch_normalization_41 (BatchNo (None, 6036)         24144       concate[0][0]                    \n",
            "__________________________________________________________________________________________________\n",
            "dropout_31 (Dropout)            (None, 6036)         0           batch_normalization_41[0][0]     \n",
            "__________________________________________________________________________________________________\n",
            "dense_51 (Dense)                (None, 96)           579552      dropout_31[0][0]                 \n",
            "__________________________________________________________________________________________________\n",
            "batch_normalization_42 (BatchNo (None, 96)           384         dense_51[0][0]                   \n",
            "__________________________________________________________________________________________________\n",
            "dropout_32 (Dropout)            (None, 96)           0           batch_normalization_42[0][0]     \n",
            "__________________________________________________________________________________________________\n",
            "dense_52 (Dense)                (None, 64)           6208        dropout_32[0][0]                 \n",
            "__________________________________________________________________________________________________\n",
            "batch_normalization_43 (BatchNo (None, 64)           256         dense_52[0][0]                   \n",
            "__________________________________________________________________________________________________\n",
            "dropout_33 (Dropout)            (None, 64)           0           batch_normalization_43[0][0]     \n",
            "__________________________________________________________________________________________________\n",
            "dense_53 (Dense)                (None, 32)           2080        dropout_33[0][0]                 \n",
            "__________________________________________________________________________________________________\n",
            "batch_normalization_44 (BatchNo (None, 32)           128         dense_53[0][0]                   \n",
            "__________________________________________________________________________________________________\n",
            "dense_54 (Dense)                (None, 1)            33          batch_normalization_44[0][0]     \n",
            "==================================================================================================\n",
            "Total params: 16,034,421\n",
            "Trainable params: 622,065\n",
            "Non-trainable params: 15,412,356\n",
            "__________________________________________________________________________________________________\n"
          ],
          "name": "stdout"
        }
      ]
    },
    {
      "cell_type": "code",
      "metadata": {
        "colab_type": "code",
        "id": "VSS85BEATAzG",
        "colab": {}
      },
      "source": [
        "import tensorflow as tf\n",
        "from sklearn.metrics import roc_auc_score\n",
        "from keras import optimizers\n",
        "from keras.callbacks import EarlyStopping, ReduceLROnPlateau\n",
        "\n",
        "def auroc(y_true, y_pred):\n",
        "    return tf.py_func(roc_auc_score, (y_true, y_pred), tf.double)\n",
        "\n",
        "model.compile(optimizer=optimizers.adam(0.003, decay=1e-7),\n",
        "              loss='binary_crossentropy',\n",
        "              metrics=[auroc])"
      ],
      "execution_count": 0,
      "outputs": []
    },
    {
      "cell_type": "code",
      "metadata": {
        "colab_type": "code",
        "id": "aa5sht1HTAzJ",
        "outputId": "effc8291-fa04-434a-84c4-1bbd40d93733",
        "scrolled": false,
        "colab": {
          "base_uri": "https://localhost:8080/",
          "height": 1000
        }
      },
      "source": [
        "from time import time\n",
        "from tensorflow.keras.callbacks import TensorBoard, ModelCheckpoint\n",
        "\n",
        "tb = TensorBoard(log_dir= 'logs/model1/{}'.format(time()))\n",
        "mcp_save = ModelCheckpoint('Arch1_bestModel.hdf5', save_best_only=True, monitor='val_auroc', mode='max')\n",
        "\n",
        "batch_size = 512\n",
        "\n",
        "model.fit([X_train_text, train_state, train_grade, train_cat, train_scat, train_tprefix, num_train],\n",
        "          y_train, batch_size=batch_size, epochs=70, verbose=2, \n",
        "          validation_data=([X_cv_text, cv_state, cv_grade, cv_cat, cv_scat, cv_tprefix, num_cv], y_cv), \n",
        "          callbacks=[tb, mcp_save])"
      ],
      "execution_count": 0,
      "outputs": [
        {
          "output_type": "stream",
          "text": [
            "Train on 69918 samples, validate on 17480 samples\n",
            "Epoch 1/70\n",
            " - 20s - loss: 0.6508 - auroc: 0.5138 - val_loss: 0.4404 - val_auroc: 0.5482\n",
            "Epoch 2/70\n",
            " - 12s - loss: 0.4376 - auroc: 0.5390 - val_loss: 0.4351 - val_auroc: 0.5365\n",
            "Epoch 3/70\n",
            " - 13s - loss: 0.4284 - auroc: 0.6089 - val_loss: 0.4655 - val_auroc: 0.6915\n",
            "Epoch 4/70\n",
            " - 13s - loss: 0.4173 - auroc: 0.6538 - val_loss: 0.4309 - val_auroc: 0.6909\n",
            "Epoch 5/70\n",
            " - 13s - loss: 0.4102 - auroc: 0.6789 - val_loss: 0.4073 - val_auroc: 0.7118\n",
            "Epoch 6/70\n",
            " - 13s - loss: 0.4051 - auroc: 0.6955 - val_loss: 0.3957 - val_auroc: 0.7199\n",
            "Epoch 7/70\n",
            " - 14s - loss: 0.4012 - auroc: 0.7061 - val_loss: 0.3984 - val_auroc: 0.7191\n",
            "Epoch 8/70\n",
            " - 14s - loss: 0.3982 - auroc: 0.7100 - val_loss: 0.4368 - val_auroc: 0.7056\n",
            "Epoch 9/70\n",
            " - 12s - loss: 0.3961 - auroc: 0.7140 - val_loss: 0.3889 - val_auroc: 0.7304\n",
            "Epoch 10/70\n",
            " - 13s - loss: 0.3959 - auroc: 0.7152 - val_loss: 0.3921 - val_auroc: 0.7308\n",
            "Epoch 11/70\n",
            " - 14s - loss: 0.3946 - auroc: 0.7191 - val_loss: 0.4228 - val_auroc: 0.7304\n",
            "Epoch 12/70\n",
            " - 14s - loss: 0.3925 - auroc: 0.7179 - val_loss: 0.3981 - val_auroc: 0.7266\n",
            "Epoch 13/70\n",
            " - 13s - loss: 0.3904 - auroc: 0.7236 - val_loss: 0.3903 - val_auroc: 0.7348\n",
            "Epoch 14/70\n",
            " - 14s - loss: 0.3900 - auroc: 0.7251 - val_loss: 0.3956 - val_auroc: 0.7365\n",
            "Epoch 15/70\n",
            " - 15s - loss: 0.3912 - auroc: 0.7228 - val_loss: 0.4238 - val_auroc: 0.7341\n",
            "Epoch 16/70\n",
            " - 14s - loss: 0.3894 - auroc: 0.7246 - val_loss: 0.3930 - val_auroc: 0.7363\n",
            "Epoch 17/70\n",
            " - 13s - loss: 0.3885 - auroc: 0.7269 - val_loss: 0.3854 - val_auroc: 0.7385\n",
            "Epoch 18/70\n",
            " - 13s - loss: 0.3903 - auroc: 0.7228 - val_loss: 0.3978 - val_auroc: 0.7376\n",
            "Epoch 19/70\n",
            " - 14s - loss: 0.3888 - auroc: 0.7253 - val_loss: 0.4038 - val_auroc: 0.7370\n",
            "Epoch 20/70\n",
            " - 14s - loss: 0.3884 - auroc: 0.7265 - val_loss: 0.3853 - val_auroc: 0.7376\n",
            "Epoch 21/70\n",
            " - 14s - loss: 0.3868 - auroc: 0.7305 - val_loss: 0.4068 - val_auroc: 0.7378\n",
            "Epoch 22/70\n",
            " - 14s - loss: 0.3869 - auroc: 0.7309 - val_loss: 0.3871 - val_auroc: 0.7418\n",
            "Epoch 23/70\n",
            " - 15s - loss: 0.3873 - auroc: 0.7291 - val_loss: 0.3867 - val_auroc: 0.7423\n",
            "Epoch 24/70\n",
            " - 16s - loss: 0.3873 - auroc: 0.7310 - val_loss: 0.3892 - val_auroc: 0.7440\n",
            "Epoch 25/70\n",
            " - 15s - loss: 0.3861 - auroc: 0.7313 - val_loss: 0.4040 - val_auroc: 0.7431\n",
            "Epoch 26/70\n",
            " - 15s - loss: 0.3852 - auroc: 0.7327 - val_loss: 0.3882 - val_auroc: 0.7450\n",
            "Epoch 27/70\n",
            " - 17s - loss: 0.3854 - auroc: 0.7325 - val_loss: 0.3854 - val_auroc: 0.7385\n",
            "Epoch 28/70\n",
            " - 15s - loss: 0.3865 - auroc: 0.7302 - val_loss: 0.3829 - val_auroc: 0.7460\n",
            "Epoch 29/70\n",
            " - 15s - loss: 0.3857 - auroc: 0.7371 - val_loss: 0.4068 - val_auroc: 0.7393\n",
            "Epoch 30/70\n",
            " - 15s - loss: 0.3847 - auroc: 0.7368 - val_loss: 0.3859 - val_auroc: 0.7439\n",
            "Epoch 31/70\n",
            " - 14s - loss: 0.3859 - auroc: 0.7336 - val_loss: 0.3974 - val_auroc: 0.7458\n",
            "Epoch 32/70\n",
            " - 15s - loss: 0.3845 - auroc: 0.7365 - val_loss: 0.3831 - val_auroc: 0.7470\n",
            "Epoch 33/70\n",
            " - 14s - loss: 0.3851 - auroc: 0.7360 - val_loss: 0.3852 - val_auroc: 0.7496\n",
            "Epoch 34/70\n",
            " - 15s - loss: 0.3835 - auroc: 0.7374 - val_loss: 0.3874 - val_auroc: 0.7430\n",
            "Epoch 35/70\n",
            " - 15s - loss: 0.3838 - auroc: 0.7373 - val_loss: 0.4183 - val_auroc: 0.7415\n",
            "Epoch 36/70\n",
            " - 14s - loss: 0.3833 - auroc: 0.7380 - val_loss: 0.3839 - val_auroc: 0.7459\n",
            "Epoch 37/70\n",
            " - 14s - loss: 0.3840 - auroc: 0.7350 - val_loss: 0.3881 - val_auroc: 0.7461\n",
            "Epoch 38/70\n",
            " - 14s - loss: 0.3823 - auroc: 0.7397 - val_loss: 0.3832 - val_auroc: 0.7447\n",
            "Epoch 39/70\n",
            " - 14s - loss: 0.3826 - auroc: 0.7368 - val_loss: 0.3939 - val_auroc: 0.7434\n",
            "Epoch 40/70\n",
            " - 14s - loss: 0.3830 - auroc: 0.7380 - val_loss: 0.3834 - val_auroc: 0.7451\n",
            "Epoch 41/70\n",
            " - 14s - loss: 0.3828 - auroc: 0.7390 - val_loss: 0.3842 - val_auroc: 0.7454\n",
            "Epoch 42/70\n",
            " - 15s - loss: 0.3827 - auroc: 0.7391 - val_loss: 0.3970 - val_auroc: 0.7427\n",
            "Epoch 43/70\n",
            " - 14s - loss: 0.3825 - auroc: 0.7394 - val_loss: 0.3861 - val_auroc: 0.7464\n",
            "Epoch 44/70\n",
            " - 14s - loss: 0.3826 - auroc: 0.7398 - val_loss: 0.4030 - val_auroc: 0.7460\n",
            "Epoch 45/70\n",
            " - 14s - loss: 0.3823 - auroc: 0.7398 - val_loss: 0.3863 - val_auroc: 0.7492\n",
            "Epoch 46/70\n",
            " - 15s - loss: 0.3818 - auroc: 0.7411 - val_loss: 0.3909 - val_auroc: 0.7450\n",
            "Epoch 47/70\n",
            " - 14s - loss: 0.3822 - auroc: 0.7422 - val_loss: 0.4050 - val_auroc: 0.7435\n",
            "Epoch 48/70\n",
            " - 15s - loss: 0.3821 - auroc: 0.7395 - val_loss: 0.3880 - val_auroc: 0.7502\n",
            "Epoch 49/70\n",
            " - 15s - loss: 0.3812 - auroc: 0.7409 - val_loss: 0.3815 - val_auroc: 0.7513\n",
            "Epoch 50/70\n",
            " - 16s - loss: 0.3814 - auroc: 0.7403 - val_loss: 0.3807 - val_auroc: 0.7505\n",
            "Epoch 51/70\n",
            " - 18s - loss: 0.3812 - auroc: 0.7416 - val_loss: 0.3913 - val_auroc: 0.7484\n",
            "Epoch 52/70\n",
            " - 18s - loss: 0.3812 - auroc: 0.7426 - val_loss: 0.3794 - val_auroc: 0.7530\n",
            "Epoch 53/70\n",
            " - 15s - loss: 0.3813 - auroc: 0.7430 - val_loss: 0.3929 - val_auroc: 0.7494\n",
            "Epoch 54/70\n",
            " - 15s - loss: 0.3805 - auroc: 0.7426 - val_loss: 0.3827 - val_auroc: 0.7506\n",
            "Epoch 55/70\n",
            " - 17s - loss: 0.3806 - auroc: 0.7426 - val_loss: 0.3952 - val_auroc: 0.7478\n",
            "Epoch 56/70\n",
            " - 17s - loss: 0.3807 - auroc: 0.7437 - val_loss: 0.3924 - val_auroc: 0.7545\n",
            "Epoch 57/70\n",
            " - 14s - loss: 0.3811 - auroc: 0.7425 - val_loss: 0.3953 - val_auroc: 0.7499\n",
            "Epoch 58/70\n",
            " - 15s - loss: 0.3807 - auroc: 0.7437 - val_loss: 0.3788 - val_auroc: 0.7536\n",
            "Epoch 59/70\n",
            " - 14s - loss: 0.3805 - auroc: 0.7441 - val_loss: 0.3799 - val_auroc: 0.7565\n",
            "Epoch 60/70\n",
            " - 18s - loss: 0.3816 - auroc: 0.7411 - val_loss: 0.3887 - val_auroc: 0.7411\n",
            "Epoch 61/70\n",
            " - 15s - loss: 0.3809 - auroc: 0.7415 - val_loss: 0.3813 - val_auroc: 0.7558\n",
            "Epoch 62/70\n",
            " - 12s - loss: 0.3798 - auroc: 0.7454 - val_loss: 0.3848 - val_auroc: 0.7525\n",
            "Epoch 63/70\n",
            " - 10s - loss: 0.3813 - auroc: 0.7427 - val_loss: 0.3824 - val_auroc: 0.7560\n",
            "Epoch 64/70\n",
            " - 13s - loss: 0.3808 - auroc: 0.7438 - val_loss: 0.3820 - val_auroc: 0.7501\n",
            "Epoch 65/70\n",
            " - 12s - loss: 0.3796 - auroc: 0.7445 - val_loss: 0.3848 - val_auroc: 0.7455\n",
            "Epoch 66/70\n",
            " - 11s - loss: 0.3798 - auroc: 0.7454 - val_loss: 0.3859 - val_auroc: 0.7581\n",
            "Epoch 67/70\n",
            " - 10s - loss: 0.3803 - auroc: 0.7422 - val_loss: 0.3799 - val_auroc: 0.7520\n",
            "Epoch 68/70\n",
            " - 12s - loss: 0.3799 - auroc: 0.7430 - val_loss: 0.3935 - val_auroc: 0.7494\n",
            "Epoch 69/70\n",
            " - 12s - loss: 0.3793 - auroc: 0.7467 - val_loss: 0.3876 - val_auroc: 0.7520\n",
            "Epoch 70/70\n",
            " - 11s - loss: 0.3794 - auroc: 0.7461 - val_loss: 0.3812 - val_auroc: 0.7494\n"
          ],
          "name": "stdout"
        },
        {
          "output_type": "execute_result",
          "data": {
            "text/plain": [
              "<keras.callbacks.History at 0x2ab8e6905c0>"
            ]
          },
          "metadata": {
            "tags": []
          },
          "execution_count": 106
        }
      ]
    },
    {
      "cell_type": "code",
      "metadata": {
        "colab_type": "code",
        "id": "Xl-08q-kPeG-",
        "colab": {}
      },
      "source": [
        "from keras.models import load_model\n",
        "model = load_model('Arch1_bestModel.hdf5', custom_objects={'auroc':auroc})"
      ],
      "execution_count": 0,
      "outputs": []
    },
    {
      "cell_type": "code",
      "metadata": {
        "colab_type": "code",
        "id": "M3zaYCD7TAzM",
        "outputId": "a99f9973-5e77-4953-e323-a249b8a58bdd",
        "colab": {
          "base_uri": "https://localhost:8080/",
          "height": 286
        }
      },
      "source": [
        "y_pred = model.predict([X_test_text, test_state, test_grade, test_cat, test_scat, test_tprefix, num_test]\n",
        "                       , batch_size=2048)\n",
        "y_pred_train = model.predict([X_train_text, train_state, train_grade, train_cat, train_scat, train_tprefix, num_train]\n",
        "                       , batch_size=2048)\n",
        "\n",
        "\n",
        "from sklearn.metrics import roc_curve\n",
        "from matplotlib import pyplot as plot\n",
        "aucts = roc_auc_score(y_test, y_pred)\n",
        "print('Test AUC: %.4f' % aucts)\n",
        "auctr = roc_auc_score(y_train, y_pred_train)\n",
        "print('Train AUC: %.4f' % auctr)\n",
        "\n",
        "# calculate roc curve\n",
        "fprts, tprts, thresholds = roc_curve(y_test, y_pred)\n",
        "fprtr, tprtr, thresholds = roc_curve(y_train, y_pred_train)\n",
        "plot.plot(fprts, tprts, label='Test AUC: %.4f' % aucts)\n",
        "plot.plot(fprtr, tprtr, label='Train AUC: %.4f' % auctr)\n",
        "plot.plot([0,1], [0,1])\n",
        "plot.legend(loc='upper left')\n",
        "# show the plot\n",
        "plot.show()"
      ],
      "execution_count": 0,
      "outputs": [
        {
          "output_type": "stream",
          "text": [
            "Test AUC: 0.7653\n",
            "Train AUC: 0.7710\n"
          ],
          "name": "stdout"
        },
        {
          "output_type": "display_data",
          "data": {
            "image/png": "[encoded data removed]",
            "text/plain": [
              "<Figure size 432x288 with 1 Axes>"
            ]
          },
          "metadata": {
            "tags": []
          }
        }
      ]
    },
    {
      "cell_type": "markdown",
      "metadata": {
        "colab_type": "text",
        "id": "Kz5qJCfiTAzS"
      },
      "source": [
        "## 10.2 Model 2\n",
        "\n",
        "Same model as Model 1, only difference is that we removed less important words from the text data.\n",
        "\n",
        "We used idf values for each words to identify less important words.\n",
        "\n",
        "<b>Process to identify less important words</b>\n",
        "- use train data to train TfidfVectorizor\n",
        "- get idf for each words\n",
        "- get high-value and low-value thresholds using IQR boundries of idf values distribution\n",
        "- build a list having idf more than higher threshold and less than lower threshold\n",
        "- remove those words from train and test text\n"
      ]
    },
    {
      "cell_type": "code",
      "metadata": {
        "colab_type": "code",
        "id": "Zk9orEtvTAzT",
        "colab": {}
      },
      "source": [
        "# replacing nan values with a white space\n",
        "X_train.total_text.replace(np.nan,'', inplace=True)"
      ],
      "execution_count": 0,
      "outputs": []
    },
    {
      "cell_type": "code",
      "metadata": {
        "colab_type": "code",
        "id": "U81-1rY_TAzV",
        "colab": {}
      },
      "source": [
        "from sklearn.feature_extraction.text import TfidfVectorizer\n",
        "vect = TfidfVectorizer()\n",
        "tfTrain=vect.fit_transform(X_train['total_text'])"
      ],
      "execution_count": 0,
      "outputs": []
    },
    {
      "cell_type": "code",
      "metadata": {
        "colab_type": "code",
        "id": "nT5ewrxqTAzY",
        "outputId": "be6c068e-def6-4f74-8a12-c106e5db6441",
        "colab": {}
      },
      "source": [
        "import seaborn as sns\n",
        "sns.boxplot(vect.idf_, showfliers=False)"
      ],
      "execution_count": 0,
      "outputs": [
        {
          "output_type": "execute_result",
          "data": {
            "text/plain": [
              "<matplotlib.axes._subplots.AxesSubplot at 0x2add45bc978>"
            ]
          },
          "metadata": {
            "tags": []
          },
          "execution_count": 33
        },
        {
          "output_type": "display_data",
          "data": {
            "image/png": "[encoded data removed]",
            "text/plain": [
              "<Figure size 432x288 with 1 Axes>"
            ]
          },
          "metadata": {
            "tags": []
          }
        }
      ]
    },
    {
      "cell_type": "code",
      "metadata": {
        "colab_type": "code",
        "id": "r8W1FAiBTAzg",
        "outputId": "66569268-a229-4666-c5ce-adf022411b21",
        "colab": {}
      },
      "source": [
        "import matplotlib.pyplot as plt\n",
        "import seaborn as sns\n",
        "\n",
        "sns.distplot(vect.idf_, hist=True, kde=True, \n",
        "             bins=int(70), color = 'darkblue', \n",
        "             hist_kws={'edgecolor':'black'},\n",
        "             kde_kws={'linewidth': 2})"
      ],
      "execution_count": 0,
      "outputs": [
        {
          "output_type": "stream",
          "text": [
            "C:\\Users\\91814\\Anaconda3\\lib\\site-packages\\matplotlib\\axes\\_axes.py:6462: UserWarning: The 'normed' kwarg is deprecated, and has been replaced by the 'density' kwarg.\n",
            "  warnings.warn(\"The 'normed' kwarg is deprecated, and has been \"\n"
          ],
          "name": "stderr"
        },
        {
          "output_type": "execute_result",
          "data": {
            "text/plain": [
              "<matplotlib.axes._subplots.AxesSubplot at 0x2add4556400>"
            ]
          },
          "metadata": {
            "tags": []
          },
          "execution_count": 34
        },
        {
          "output_type": "display_data",
          "data": {
            "image/png": "[encoded data removed]",
            "text/plain": [
              "<Figure size 432x288 with 1 Axes>"
            ]
          },
          "metadata": {
            "tags": []
          }
        }
      ]
    },
    {
      "cell_type": "markdown",
      "metadata": {
        "id": "gGoLqo02p_a3",
        "colab_type": "text"
      },
      "source": [
        "# inspecting percentile values\n",
        "for i in range(11):\n",
        "    print('{}th percentile idf value is {}'.format(i*10, np.percentile(vect.idf_, i*10)))"
      ]
    },
    {
      "cell_type": "code",
      "metadata": {
        "colab_type": "code",
        "id": "i2F5fUJLTAzp",
        "colab": {}
      },
      "source": [
        "<b>By inspecting above idf values, we can see most of words (almost 50%) occur very few times.</b>\n",
        "\n",
        "Thus choosing threshold based on IQR values would have very meaning less data (word occuring only once)and we would also loose some meaning ful details like frequently occuring words that do have importance.\n",
        "\n",
        "<b>So we would choose 1.75 as a lower value threshold and 11.25 as a higher value threshold</b>"
      ],
      "execution_count": 0,
      "outputs": []
    },
    {
      "cell_type": "code",
      "metadata": {
        "colab_type": "code",
        "id": "BkkTw9NOTAzt",
        "outputId": "0f8befe7-ce37-4e0d-e86f-87de5dbeabbc",
        "colab": {
          "referenced_widgets": [
            "0f4c244727cc4d54b27ffbe0063d9654"
          ]
        }
      },
      "source": [
        "# build a list: words to be removed based on thresholds\n",
        "from tqdm import tqdm_notebook as tqdm\n",
        "\n",
        "less_imp_words=[]\n",
        "j=0\n",
        "for i in tqdm(vect.idf_):\n",
        "    if i > 11.25 or i < 1.75:\n",
        "        less_imp_words.append(vect.get_feature_names()[j])\n",
        "    j=j+1\n",
        "\n",
        "print(\"No. of less important words are {}\".format(len(less_imp_words)))"
      ],
      "execution_count": 0,
      "outputs": [
        {
          "output_type": "display_data",
          "data": {
            "application/vnd.jupyter.widget-view+json": {
              "model_id": "0f4c244727cc4d54b27ffbe0063d9654",
              "version_major": 2,
              "version_minor": 0
            },
            "text/plain": [
              "HBox(children=(IntProgress(value=0, max=51303), HTML(value='')))"
            ]
          },
          "metadata": {
            "tags": []
          }
        },
        {
          "output_type": "stream",
          "text": [
            "\n",
            "No. of less important words are 20716\n"
          ],
          "name": "stdout"
        }
      ]
    },
    {
      "cell_type": "code",
      "metadata": {
        "colab_type": "code",
        "id": "b0CgNoV6TAz2",
        "colab": {}
      },
      "source": [
        "# ref: https://stackoverflow.com/questions/7356043/python-deleting-specific-strings-from-file\n",
        "\n",
        "def remove_few_words(text):\n",
        "    ntext=''\n",
        "    for word in text.split():\n",
        "        if word not in less_imp_words:\n",
        "            ntext = ntext + ' ' + str(word)\n",
        "    return ntext.strip()\n"
      ],
      "execution_count": 0,
      "outputs": []
    },
    {
      "cell_type": "code",
      "metadata": {
        "colab_type": "code",
        "id": "xZqGuqsETA0U",
        "scrolled": true,
        "colab": {}
      },
      "source": [
        "X_train['new_total_text'] = X_train['total_text'].apply(lambda x: remove_few_words(x))"
      ],
      "execution_count": 0,
      "outputs": []
    },
    {
      "cell_type": "code",
      "metadata": {
        "colab_type": "code",
        "id": "eUYB1SahTA0b",
        "colab": {},
        "outputId": "01536284-5310-4daf-be18-4d35e288b218"
      },
      "source": [
        "X_cv.total_text.replace(np.nan,'', inplace=True)\n",
        "X_cv['new_total_text'] = X_cv['total_text'].apply(lambda x: remove_few_words(x))\n",
        "print(\"-\"*20)\n",
        "X_test.total_text.replace(np.nan,'', inplace=True)\n",
        "X_test['new_total_text'] = X_test['total_text'].apply(lambda x: remove_few_words(x))"
      ],
      "execution_count": 0,
      "outputs": [
        {
          "output_type": "stream",
          "text": [
            "--------------------\n"
          ],
          "name": "stdout"
        }
      ]
    },
    {
      "cell_type": "code",
      "metadata": {
        "colab_type": "code",
        "id": "MkIaTP8TTA0r",
        "outputId": "7b9084bb-7479-4129-9628-a6ddcf8bd0f2",
        "colab": {}
      },
      "source": [
        "# ref: https://machinelearningmastery.com/use-word-embedding-layers-deep-learning-keras/\n",
        "\n",
        "t2 = Tokenizer()\n",
        "t2.fit_on_texts(X_train[\"new_total_text\"].astype('str').tolist())\n",
        "vocab_size = len(t2.word_index) + 1\n",
        "\n",
        "print(\"Vocabulary size is {}\".format(vocab_size))"
      ],
      "execution_count": 0,
      "outputs": [
        {
          "output_type": "stream",
          "text": [
            "Vocabulary size is 30616\n"
          ],
          "name": "stdout"
        }
      ]
    },
    {
      "cell_type": "code",
      "metadata": {
        "id": "57tIAJkGp_bN",
        "colab_type": "code",
        "colab": {
          "referenced_widgets": [
            "a794a92ea0e347948f27ab64702661e1"
          ]
        },
        "outputId": "e424c0ff-3909-4c20-df8c-d0138c4d0489"
      },
      "source": [
        "len(X_train[\"new_total_text\"][0].split())\n",
        "new_text_len=[]\n",
        "for ess in tqdm(X_train[\"new_total_text\"]):\n",
        "    new_text_len.append(len(ess.split()))"
      ],
      "execution_count": 0,
      "outputs": [
        {
          "output_type": "display_data",
          "data": {
            "application/vnd.jupyter.widget-view+json": {
              "model_id": "a794a92ea0e347948f27ab64702661e1",
              "version_major": 2,
              "version_minor": 0
            },
            "text/plain": [
              "HBox(children=(IntProgress(value=0, max=69918), HTML(value='')))"
            ]
          },
          "metadata": {
            "tags": []
          }
        },
        {
          "output_type": "stream",
          "text": [
            "\n"
          ],
          "name": "stdout"
        }
      ]
    },
    {
      "cell_type": "code",
      "metadata": {
        "id": "SAmK2o2Xp_bR",
        "colab_type": "code",
        "colab": {},
        "outputId": "d25300f8-9888-416e-b138-ae15c874f612"
      },
      "source": [
        "max(new_text_len)"
      ],
      "execution_count": 0,
      "outputs": [
        {
          "output_type": "execute_result",
          "data": {
            "text/plain": [
              "320"
            ]
          },
          "metadata": {
            "tags": []
          },
          "execution_count": 43
        }
      ]
    },
    {
      "cell_type": "code",
      "metadata": {
        "colab_type": "code",
        "id": "tcsjzYd_TA06",
        "colab": {}
      },
      "source": [
        "tknText_train = t2.texts_to_sequences(X_train[\"new_total_text\"].astype('str').tolist())\n",
        "tknText_cv = t2.texts_to_sequences(X_cv[\"new_total_text\"].astype('str').tolist())\n",
        "tknText_test = t2.texts_to_sequences(X_test[\"new_total_text\"].astype('str').tolist())\n",
        "X_train_text = pad_sequences(tknText_train, maxlen=325, padding='post', truncating='post')\n",
        "X_cv_text = pad_sequences(tknText_cv, maxlen=325, padding='post', truncating='post')\n",
        "X_test_text = pad_sequences(tknText_test, maxlen=325, padding='post', truncating='post')"
      ],
      "execution_count": 0,
      "outputs": []
    },
    {
      "cell_type": "code",
      "metadata": {
        "colab_type": "code",
        "id": "e7Ba8kspTA1A",
        "outputId": "a914c676-67d9-4f52-b2d1-c005bdbcb563",
        "colab": {}
      },
      "source": [
        "# load the whole embedding into memory\n",
        "embeddings_index = dict()\n",
        "f = open('glove.42B.300d.txt', encoding='utf8')\n",
        "for line in f:\n",
        "    values = line.split()\n",
        "    word = values[0]\n",
        "    coefs = np.asarray(values[1:], dtype='float32')\n",
        "    embeddings_index[word] = coefs\n",
        "f.close()\n",
        "print('Loaded %s word vectors.' % len(embeddings_index))"
      ],
      "execution_count": 0,
      "outputs": [
        {
          "output_type": "stream",
          "text": [
            "Loaded 1917494 word vectors.\n"
          ],
          "name": "stdout"
        }
      ]
    },
    {
      "cell_type": "code",
      "metadata": {
        "colab_type": "code",
        "id": "v6-KsYXoTA1Z",
        "colab": {}
      },
      "source": [
        "# create a weight matrix for words in training docs\n",
        "embedding_matrix = np.zeros((vocab_size, 300))\n",
        "for word, i in t2.word_index.items():\n",
        "    embedding_vector = embeddings_index.get(word)\n",
        "    if embedding_vector is not None:\n",
        "        embedding_matrix[i] = embedding_vector\n",
        "del embeddings_index"
      ],
      "execution_count": 0,
      "outputs": []
    },
    {
      "cell_type": "code",
      "metadata": {
        "colab_type": "code",
        "id": "-FaEahlmTA1b",
        "colab": {}
      },
      "source": [
        "\n",
        "# School state feature encoding for embedding layer\n",
        "from sklearn.preprocessing import StandardScaler\n",
        "enc =Tokenizer()\n",
        "enc.fit_on_texts(X_train['school_state'].values)\n",
        "vocab_size_state = len(enc.word_index) + 1\n",
        "train_state = enc.texts_to_sequences(X_train['school_state'].values)\n",
        "cv_state = enc.texts_to_sequences(X_cv['school_state'].values)\n",
        "test_state = enc.texts_to_sequences(X_test['school_state'].values)\n",
        "train_state = pad_sequences(train_state, maxlen=1)\n",
        "cv_state = pad_sequences(cv_state, maxlen=1)\n",
        "test_state = pad_sequences(test_state, maxlen=1)\n",
        "\n",
        "\n",
        "# project grade feature encoding for embedding layer\n",
        "enc =Tokenizer()\n",
        "enc.fit_on_texts(X_train['project_grade_category'].values)\n",
        "vocab_size_grade = len(enc.word_index) + 1\n",
        "train_grade = enc.texts_to_sequences(X_train['project_grade_category'].values)\n",
        "cv_grade = enc.texts_to_sequences(X_cv['project_grade_category'].values)\n",
        "test_grade = enc.texts_to_sequences(X_test['project_grade_category'].values)\n",
        "train_grade = pad_sequences(train_grade, maxlen=1)\n",
        "cv_grade = pad_sequences(cv_grade, maxlen=1)\n",
        "test_grade = pad_sequences(test_grade, maxlen=1)\n",
        "\n",
        "# project_subject_categories feature encoding for embedding layer\n",
        "enc =Tokenizer()\n",
        "enc.fit_on_texts(X_train['project_subject_categories'].values)\n",
        "vocab_size_cat = len(enc.word_index) + 1\n",
        "train_cat = enc.texts_to_sequences(X_train['project_subject_categories'].values)\n",
        "cv_cat = enc.texts_to_sequences(X_cv['project_subject_categories'].values)\n",
        "test_cat = enc.texts_to_sequences(X_test['project_subject_categories'].values)\n",
        "train_cat = pad_sequences(train_cat, maxlen=8)\n",
        "cv_cat = pad_sequences(cv_cat, maxlen=8)\n",
        "test_cat = pad_sequences(test_cat, maxlen=8)\n",
        "\n",
        "                         \n",
        "# project_subject_subcategories feature encoding for embedding layer\n",
        "enc =Tokenizer()\n",
        "enc.fit_on_texts(X_train['project_subject_subcategories'].values)\n",
        "vocab_size_scat = len(enc.word_index) + 1\n",
        "train_scat = enc.texts_to_sequences(X_train['project_subject_subcategories'].values)\n",
        "cv_scat = enc.texts_to_sequences(X_cv['project_subject_subcategories'].values)\n",
        "test_scat = enc.texts_to_sequences(X_test['project_subject_subcategories'].values)\n",
        "train_scat = pad_sequences(train_scat, maxlen=8)\n",
        "cv_scat  = pad_sequences(cv_scat, maxlen=8)\n",
        "test_scat  = pad_sequences(test_scat, maxlen=8)\n",
        "\n",
        "# teacher_prefix feature encoding for embedding layer\n",
        "enc =Tokenizer()\n",
        "enc.fit_on_texts(X_train['teacher_prefix'].values)\n",
        "vocab_size_tprefix = len(enc.word_index) + 1\n",
        "train_tprefix = enc.texts_to_sequences(X_train['teacher_prefix'].values)\n",
        "cv_tprefix = enc.texts_to_sequences(X_cv['teacher_prefix'].values)\n",
        "test_tprefix = enc.texts_to_sequences(X_test['teacher_prefix'].values)\n",
        "train_tprefix = pad_sequences(train_tprefix, maxlen=1)\n",
        "test_tprefix = pad_sequences(test_tprefix, maxlen=1)\n",
        "cv_tprefix = pad_sequences(cv_tprefix, maxlen=1)\n"
      ],
      "execution_count": 0,
      "outputs": []
    },
    {
      "cell_type": "code",
      "metadata": {
        "colab_type": "code",
        "id": "tI_Lmb1mTA1f",
        "colab": {}
      },
      "source": [
        "# numerical features\n",
        "\n",
        "numeric_ft = [\"teacher_number_of_previously_posted_projects\", \"price\", \"quantity\", \"has_number_in_summary\"]\n",
        "scaler = StandardScaler()\n",
        "num_train = scaler.fit_transform(X_train[numeric_ft])\n",
        "num_test = scaler.transform(X_test[numeric_ft])\n",
        "num_cv = scaler.transform(X_cv[numeric_ft])"
      ],
      "execution_count": 0,
      "outputs": []
    },
    {
      "cell_type": "code",
      "metadata": {
        "colab_type": "code",
        "id": "Smb0QF_dTA1l",
        "outputId": "253eb042-84b0-4ce0-e1d8-04d3e670e744",
        "colab": {}
      },
      "source": [
        "# model  bulding\n",
        "from keras.layers import concatenate, BatchNormalization, Dropout, Input, CuDNNLSTM, Bidirectional\n",
        "from keras.models import Model\n",
        "from keras import regularizers as rg\n",
        "\n",
        "text_input = Input(shape=(325,), name='text_input')\n",
        "x_text= Embedding(vocab_size, 300, weights=[embedding_matrix], input_length=325, trainable=False)(text_input)\n",
        "x_text = CuDNNLSTM(16, return_sequences=True, kernel_regularizer=rg.l2())(x_text)\n",
        "x_text = Flatten()(x_text)\n",
        "\n",
        "state_input = Input(shape=(1,), name='state_input')\n",
        "x_state= Embedding(vocab_size_state, 4)(state_input)\n",
        "x_state = Flatten()(x_state)\n",
        "\n",
        "grade_input = Input(shape=(1,), name='grade_input')\n",
        "x_grade= Embedding(vocab_size_grade, 4)(grade_input)\n",
        "x_grade = Flatten()(x_grade)\n",
        "\n",
        "cat_input = Input(shape=(8,), name='cat_input')\n",
        "x_cat= Embedding(vocab_size_cat, 16)(cat_input)\n",
        "x_cat = Flatten()(x_cat)\n",
        "\n",
        "scat_input = Input(shape=(8,), name='scat_input')\n",
        "x_scat= Embedding(vocab_size_scat, 16)(scat_input)\n",
        "x_scat = Flatten()(x_scat)\n",
        "\n",
        "tprefix_input = Input(shape=(1,), name='tprefix_input')\n",
        "x_tprefix= Embedding(vocab_size_tprefix, 4)(tprefix_input)\n",
        "x_tprefix = Flatten()(x_tprefix)\n",
        "\n",
        "num_input = Input(shape=(len(numeric_ft),), name='num_input')\n",
        "x_num= Dense(8, activation='relu', kernel_initializer='he_normal')(num_input)\n",
        "\n",
        "x = concatenate([x_text, x_state, x_grade, x_cat, x_scat, x_tprefix, x_num], name='concate')\n",
        "x = BatchNormalization()(x)\n",
        "x = Dropout(0.65)(x)\n",
        "\n",
        "x = Dense(96, activation='relu', kernel_initializer='he_normal') (x)\n",
        "x = BatchNormalization()(x)\n",
        "x = Dropout(0.85)(x)\n",
        "\n",
        "x = Dense(64, activation='relu', kernel_initializer='he_normal') (x)\n",
        "x = BatchNormalization()(x)\n",
        "x = Dropout(0.75)(x)\n",
        "\n",
        "x = Dense(32, activation='relu', kernel_initializer='he_normal') (x)\n",
        "x = BatchNormalization()(x)\n",
        "\n",
        "\n",
        "out_put = Dense(1, activation='sigmoid') (x)\n",
        "\n",
        "model = Model(inputs=[text_input, state_input, grade_input, cat_input, scat_input, tprefix_input, num_input],\n",
        "              outputs=out_put)\n",
        "\n",
        "model.summary()"
      ],
      "execution_count": 0,
      "outputs": [
        {
          "output_type": "stream",
          "text": [
            "__________________________________________________________________________________________________\n",
            "Layer (type)                    Output Shape         Param #     Connected to                     \n",
            "==================================================================================================\n",
            "text_input (InputLayer)         (None, 325)          0                                            \n",
            "__________________________________________________________________________________________________\n",
            "embedding_49 (Embedding)        (None, 325, 300)     9184800     text_input[0][0]                 \n",
            "__________________________________________________________________________________________________\n",
            "state_input (InputLayer)        (None, 1)            0                                            \n",
            "__________________________________________________________________________________________________\n",
            "grade_input (InputLayer)        (None, 1)            0                                            \n",
            "__________________________________________________________________________________________________\n",
            "cat_input (InputLayer)          (None, 8)            0                                            \n",
            "__________________________________________________________________________________________________\n",
            "scat_input (InputLayer)         (None, 8)            0                                            \n",
            "__________________________________________________________________________________________________\n",
            "tprefix_input (InputLayer)      (None, 1)            0                                            \n",
            "__________________________________________________________________________________________________\n",
            "cu_dnnlstm_9 (CuDNNLSTM)        (None, 325, 16)      20352       embedding_49[0][0]               \n",
            "__________________________________________________________________________________________________\n",
            "embedding_50 (Embedding)        (None, 1, 4)         208         state_input[0][0]                \n",
            "__________________________________________________________________________________________________\n",
            "embedding_51 (Embedding)        (None, 1, 4)         40          grade_input[0][0]                \n",
            "__________________________________________________________________________________________________\n",
            "embedding_52 (Embedding)        (None, 8, 16)        288         cat_input[0][0]                  \n",
            "__________________________________________________________________________________________________\n",
            "embedding_53 (Embedding)        (None, 8, 16)        784         scat_input[0][0]                 \n",
            "__________________________________________________________________________________________________\n",
            "embedding_54 (Embedding)        (None, 1, 4)         24          tprefix_input[0][0]              \n",
            "__________________________________________________________________________________________________\n",
            "num_input (InputLayer)          (None, 4)            0                                            \n",
            "__________________________________________________________________________________________________\n",
            "flatten_49 (Flatten)            (None, 5200)         0           cu_dnnlstm_9[0][0]               \n",
            "__________________________________________________________________________________________________\n",
            "flatten_50 (Flatten)            (None, 4)            0           embedding_50[0][0]               \n",
            "__________________________________________________________________________________________________\n",
            "flatten_51 (Flatten)            (None, 4)            0           embedding_51[0][0]               \n",
            "__________________________________________________________________________________________________\n",
            "flatten_52 (Flatten)            (None, 128)          0           embedding_52[0][0]               \n",
            "__________________________________________________________________________________________________\n",
            "flatten_53 (Flatten)            (None, 128)          0           embedding_53[0][0]               \n",
            "__________________________________________________________________________________________________\n",
            "flatten_54 (Flatten)            (None, 4)            0           embedding_54[0][0]               \n",
            "__________________________________________________________________________________________________\n",
            "dense_41 (Dense)                (None, 8)            40          num_input[0][0]                  \n",
            "__________________________________________________________________________________________________\n",
            "concate (Concatenate)           (None, 5476)         0           flatten_49[0][0]                 \n",
            "                                                                 flatten_50[0][0]                 \n",
            "                                                                 flatten_51[0][0]                 \n",
            "                                                                 flatten_52[0][0]                 \n",
            "                                                                 flatten_53[0][0]                 \n",
            "                                                                 flatten_54[0][0]                 \n",
            "                                                                 dense_41[0][0]                   \n",
            "__________________________________________________________________________________________________\n",
            "batch_normalization_33 (BatchNo (None, 5476)         21904       concate[0][0]                    \n",
            "__________________________________________________________________________________________________\n",
            "dropout_25 (Dropout)            (None, 5476)         0           batch_normalization_33[0][0]     \n",
            "__________________________________________________________________________________________________\n",
            "dense_42 (Dense)                (None, 96)           525792      dropout_25[0][0]                 \n",
            "__________________________________________________________________________________________________\n",
            "batch_normalization_34 (BatchNo (None, 96)           384         dense_42[0][0]                   \n",
            "__________________________________________________________________________________________________\n",
            "dropout_26 (Dropout)            (None, 96)           0           batch_normalization_34[0][0]     \n",
            "__________________________________________________________________________________________________\n",
            "dense_43 (Dense)                (None, 64)           6208        dropout_26[0][0]                 \n",
            "__________________________________________________________________________________________________\n",
            "batch_normalization_35 (BatchNo (None, 64)           256         dense_43[0][0]                   \n",
            "__________________________________________________________________________________________________\n",
            "dropout_27 (Dropout)            (None, 64)           0           batch_normalization_35[0][0]     \n",
            "__________________________________________________________________________________________________\n",
            "dense_44 (Dense)                (None, 32)           2080        dropout_27[0][0]                 \n",
            "__________________________________________________________________________________________________\n",
            "batch_normalization_36 (BatchNo (None, 32)           128         dense_44[0][0]                   \n",
            "__________________________________________________________________________________________________\n",
            "dense_45 (Dense)                (None, 1)            33          batch_normalization_36[0][0]     \n",
            "==================================================================================================\n",
            "Total params: 9,763,321\n",
            "Trainable params: 567,185\n",
            "Non-trainable params: 9,196,136\n",
            "__________________________________________________________________________________________________\n"
          ],
          "name": "stdout"
        }
      ]
    },
    {
      "cell_type": "code",
      "metadata": {
        "colab_type": "code",
        "id": "zAKSxhFSTA1r",
        "colab": {}
      },
      "source": [
        "import tensorflow as tf\n",
        "from sklearn.metrics import roc_auc_score\n",
        "from keras import optimizers\n",
        "from keras.callbacks import EarlyStopping, ReduceLROnPlateau\n",
        "\n",
        "def auroc(y_true, y_pred):\n",
        "    return tf.py_func(roc_auc_score, (y_true, y_pred), tf.double)\n",
        "\n",
        "model.compile(optimizer=optimizers.adam(0.003),\n",
        "              loss='binary_crossentropy',\n",
        "              metrics=[auroc])"
      ],
      "execution_count": 0,
      "outputs": []
    },
    {
      "cell_type": "code",
      "metadata": {
        "colab_type": "code",
        "id": "1kgvF-Z2TA1v",
        "outputId": "a4ae1bf2-e090-4ae1-bb84-633e14807be0",
        "scrolled": false,
        "colab": {}
      },
      "source": [
        "from time import time\n",
        "from tensorflow.keras.callbacks import TensorBoard, ModelCheckpoint\n",
        "\n",
        "tb = TensorBoard(log_dir= 'logs/model2/{}'.format(time()))\n",
        "mcp_save = ModelCheckpoint('Arch2_bestModel.hdf5', save_best_only=True, monitor='val_auroc', mode='max')\n",
        "\n",
        "batch_size = 512\n",
        "\n",
        "model.fit([X_train_text, train_state, train_grade, train_cat, train_scat, train_tprefix, num_train],\n",
        "          y_train, batch_size=batch_size, epochs=70, verbose=2, \n",
        "          validation_data=([X_cv_text, cv_state, cv_grade, cv_cat, cv_scat, cv_tprefix, num_cv], y_cv), \n",
        "          callbacks=[tb, mcp_save])"
      ],
      "execution_count": 0,
      "outputs": [
        {
          "output_type": "stream",
          "text": [
            "Train on 69918 samples, validate on 17480 samples\n",
            "Epoch 1/70\n",
            " - 17s - loss: 0.6873 - auroc: 0.5072 - val_loss: 0.4351 - val_auroc: 0.5542\n",
            "Epoch 2/70\n",
            " - 9s - loss: 0.4414 - auroc: 0.5280 - val_loss: 0.4362 - val_auroc: 0.6205\n",
            "Epoch 3/70\n",
            " - 9s - loss: 0.4291 - auroc: 0.5909 - val_loss: 0.4409 - val_auroc: 0.6589\n",
            "Epoch 4/70\n",
            " - 9s - loss: 0.4221 - auroc: 0.6341 - val_loss: 0.4130 - val_auroc: 0.6792\n",
            "Epoch 5/70\n",
            " - 9s - loss: 0.4162 - auroc: 0.6553 - val_loss: 0.4266 - val_auroc: 0.6849\n",
            "Epoch 6/70\n",
            " - 9s - loss: 0.4118 - auroc: 0.6678 - val_loss: 0.4025 - val_auroc: 0.6966\n",
            "Epoch 7/70\n",
            " - 9s - loss: 0.4071 - auroc: 0.6866 - val_loss: 0.4417 - val_auroc: 0.6804\n",
            "Epoch 8/70\n",
            " - 9s - loss: 0.4046 - auroc: 0.6954 - val_loss: 0.4419 - val_auroc: 0.7072\n",
            "Epoch 9/70\n",
            " - 9s - loss: 0.3994 - auroc: 0.7072 - val_loss: 0.3962 - val_auroc: 0.7218\n",
            "Epoch 10/70\n",
            " - 13s - loss: 0.3968 - auroc: 0.7113 - val_loss: 0.3930 - val_auroc: 0.7245\n",
            "Epoch 11/70\n",
            " - 10s - loss: 0.3951 - auroc: 0.7108 - val_loss: 0.3974 - val_auroc: 0.7298\n",
            "Epoch 12/70\n",
            " - 10s - loss: 0.3931 - auroc: 0.7181 - val_loss: 0.3892 - val_auroc: 0.7368\n",
            "Epoch 13/70\n",
            " - 10s - loss: 0.3912 - auroc: 0.7213 - val_loss: 0.3880 - val_auroc: 0.7363\n",
            "Epoch 14/70\n",
            " - 11s - loss: 0.3900 - auroc: 0.7237 - val_loss: 0.4018 - val_auroc: 0.7357\n",
            "Epoch 15/70\n",
            " - 13s - loss: 0.3905 - auroc: 0.7238 - val_loss: 0.3913 - val_auroc: 0.7318\n",
            "Epoch 16/70\n",
            " - 13s - loss: 0.3898 - auroc: 0.7244 - val_loss: 0.3936 - val_auroc: 0.7378\n",
            "Epoch 17/70\n",
            " - 13s - loss: 0.3875 - auroc: 0.7286 - val_loss: 0.4131 - val_auroc: 0.7362\n",
            "Epoch 18/70\n",
            " - 13s - loss: 0.3874 - auroc: 0.7298 - val_loss: 0.3860 - val_auroc: 0.7460\n",
            "Epoch 19/70\n",
            " - 13s - loss: 0.3871 - auroc: 0.7312 - val_loss: 0.3918 - val_auroc: 0.7374\n",
            "Epoch 20/70\n",
            " - 12s - loss: 0.3863 - auroc: 0.7319 - val_loss: 0.3924 - val_auroc: 0.7395\n",
            "Epoch 21/70\n",
            " - 17s - loss: 0.3861 - auroc: 0.7305 - val_loss: 0.3837 - val_auroc: 0.7458\n",
            "Epoch 22/70\n",
            " - 12s - loss: 0.3849 - auroc: 0.7333 - val_loss: 0.3886 - val_auroc: 0.7453\n",
            "Epoch 23/70\n",
            " - 13s - loss: 0.3858 - auroc: 0.7345 - val_loss: 0.3848 - val_auroc: 0.7432\n",
            "Epoch 24/70\n",
            " - 13s - loss: 0.3839 - auroc: 0.7353 - val_loss: 0.3952 - val_auroc: 0.7481\n",
            "Epoch 25/70\n",
            " - 14s - loss: 0.3842 - auroc: 0.7360 - val_loss: 0.3862 - val_auroc: 0.7443\n",
            "Epoch 26/70\n",
            " - 13s - loss: 0.3837 - auroc: 0.7361 - val_loss: 0.4074 - val_auroc: 0.7446\n",
            "Epoch 27/70\n",
            " - 12s - loss: 0.3837 - auroc: 0.7353 - val_loss: 0.3804 - val_auroc: 0.7465\n",
            "Epoch 28/70\n",
            " - 13s - loss: 0.3841 - auroc: 0.7356 - val_loss: 0.3892 - val_auroc: 0.7476\n",
            "Epoch 29/70\n",
            " - 13s - loss: 0.3827 - auroc: 0.7357 - val_loss: 0.3850 - val_auroc: 0.7447\n",
            "Epoch 30/70\n",
            " - 10s - loss: 0.3831 - auroc: 0.7383 - val_loss: 0.3865 - val_auroc: 0.7416\n",
            "Epoch 31/70\n",
            " - 11s - loss: 0.3821 - auroc: 0.7384 - val_loss: 0.3887 - val_auroc: 0.7468\n",
            "Epoch 32/70\n",
            " - 13s - loss: 0.3820 - auroc: 0.7399 - val_loss: 0.3924 - val_auroc: 0.7437\n",
            "Epoch 33/70\n",
            " - 13s - loss: 0.3817 - auroc: 0.7394 - val_loss: 0.3816 - val_auroc: 0.7523\n",
            "Epoch 34/70\n",
            " - 13s - loss: 0.3816 - auroc: 0.7405 - val_loss: 0.3835 - val_auroc: 0.7465\n",
            "Epoch 35/70\n",
            " - 10s - loss: 0.3822 - auroc: 0.7395 - val_loss: 0.3836 - val_auroc: 0.7453\n",
            "Epoch 36/70\n",
            " - 11s - loss: 0.3817 - auroc: 0.7414 - val_loss: 0.3801 - val_auroc: 0.7495\n",
            "Epoch 37/70\n",
            " - 12s - loss: 0.3814 - auroc: 0.7398 - val_loss: 0.3862 - val_auroc: 0.7459\n",
            "Epoch 38/70\n",
            " - 13s - loss: 0.3807 - auroc: 0.7425 - val_loss: 0.3898 - val_auroc: 0.7460\n",
            "Epoch 39/70\n",
            " - 13s - loss: 0.3806 - auroc: 0.7412 - val_loss: 0.3881 - val_auroc: 0.7472\n",
            "Epoch 40/70\n",
            " - 13s - loss: 0.3812 - auroc: 0.7415 - val_loss: 0.3824 - val_auroc: 0.7501\n",
            "Epoch 41/70\n",
            " - 13s - loss: 0.3798 - auroc: 0.7421 - val_loss: 0.3859 - val_auroc: 0.7511\n",
            "Epoch 42/70\n",
            " - 13s - loss: 0.3808 - auroc: 0.7425 - val_loss: 0.3946 - val_auroc: 0.7399\n",
            "Epoch 43/70\n",
            " - 11s - loss: 0.3806 - auroc: 0.7421 - val_loss: 0.3812 - val_auroc: 0.7478\n",
            "Epoch 44/70\n",
            " - 10s - loss: 0.3798 - auroc: 0.7438 - val_loss: 0.3814 - val_auroc: 0.7499\n",
            "Epoch 45/70\n",
            " - 10s - loss: 0.3807 - auroc: 0.7424 - val_loss: 0.3849 - val_auroc: 0.7530\n",
            "Epoch 46/70\n",
            " - 11s - loss: 0.3800 - auroc: 0.7431 - val_loss: 0.3963 - val_auroc: 0.7470\n",
            "Epoch 47/70\n",
            " - 12s - loss: 0.3794 - auroc: 0.7455 - val_loss: 0.3867 - val_auroc: 0.7496\n",
            "Epoch 48/70\n",
            " - 13s - loss: 0.3794 - auroc: 0.7440 - val_loss: 0.3943 - val_auroc: 0.7530\n",
            "Epoch 49/70\n",
            " - 13s - loss: 0.3787 - auroc: 0.7462 - val_loss: 0.3907 - val_auroc: 0.7525\n",
            "Epoch 50/70\n",
            " - 11s - loss: 0.3780 - auroc: 0.7482 - val_loss: 0.3819 - val_auroc: 0.7531\n",
            "Epoch 51/70\n",
            " - 17s - loss: 0.3795 - auroc: 0.7458 - val_loss: 0.3803 - val_auroc: 0.7504\n",
            "Epoch 52/70\n",
            " - 18s - loss: 0.3789 - auroc: 0.7459 - val_loss: 0.3911 - val_auroc: 0.7499\n",
            "Epoch 53/70\n",
            " - 15s - loss: 0.3783 - auroc: 0.7477 - val_loss: 0.3820 - val_auroc: 0.7547\n",
            "Epoch 54/70\n",
            " - 10s - loss: 0.3779 - auroc: 0.7481 - val_loss: 0.3780 - val_auroc: 0.7505\n",
            "Epoch 55/70\n",
            " - 10s - loss: 0.3780 - auroc: 0.7454 - val_loss: 0.3897 - val_auroc: 0.7552\n",
            "Epoch 56/70\n",
            " - 12s - loss: 0.3793 - auroc: 0.7444 - val_loss: 0.3798 - val_auroc: 0.7516\n",
            "Epoch 57/70\n",
            " - 17s - loss: 0.3782 - auroc: 0.7479 - val_loss: 0.3794 - val_auroc: 0.7581\n",
            "Epoch 58/70\n",
            " - 10s - loss: 0.3786 - auroc: 0.7472 - val_loss: 0.3868 - val_auroc: 0.7562\n",
            "Epoch 59/70\n",
            " - 11s - loss: 0.3785 - auroc: 0.7476 - val_loss: 0.3764 - val_auroc: 0.7568\n",
            "Epoch 60/70\n",
            " - 13s - loss: 0.3771 - auroc: 0.7484 - val_loss: 0.3781 - val_auroc: 0.7556\n",
            "Epoch 61/70\n",
            " - 13s - loss: 0.3775 - auroc: 0.7487 - val_loss: 0.3800 - val_auroc: 0.7514\n",
            "Epoch 62/70\n",
            " - 13s - loss: 0.3782 - auroc: 0.7484 - val_loss: 0.3961 - val_auroc: 0.7462\n",
            "Epoch 63/70\n",
            " - 13s - loss: 0.3771 - auroc: 0.7492 - val_loss: 0.3801 - val_auroc: 0.7520\n",
            "Epoch 64/70\n",
            " - 13s - loss: 0.3774 - auroc: 0.7492 - val_loss: 0.3798 - val_auroc: 0.7572\n",
            "Epoch 65/70\n",
            " - 10s - loss: 0.3770 - auroc: 0.7496 - val_loss: 0.3782 - val_auroc: 0.7543\n",
            "Epoch 66/70\n",
            " - 12s - loss: 0.3771 - auroc: 0.7491 - val_loss: 0.3878 - val_auroc: 0.7540\n",
            "Epoch 67/70\n",
            " - 19s - loss: 0.3774 - auroc: 0.7473 - val_loss: 0.3792 - val_auroc: 0.7553\n",
            "Epoch 68/70\n",
            " - 13s - loss: 0.3765 - auroc: 0.7491 - val_loss: 0.3796 - val_auroc: 0.7561\n",
            "Epoch 69/70\n",
            " - 13s - loss: 0.3766 - auroc: 0.7490 - val_loss: 0.3807 - val_auroc: 0.7582\n",
            "Epoch 70/70\n",
            " - 13s - loss: 0.3775 - auroc: 0.7481 - val_loss: 0.3841 - val_auroc: 0.7545\n"
          ],
          "name": "stdout"
        },
        {
          "output_type": "execute_result",
          "data": {
            "text/plain": [
              "<keras.callbacks.History at 0x2ae20faec18>"
            ]
          },
          "metadata": {
            "tags": []
          },
          "execution_count": 73
        }
      ]
    },
    {
      "cell_type": "code",
      "metadata": {
        "id": "thFUwVy4p_b6",
        "colab_type": "code",
        "colab": {}
      },
      "source": [
        "from keras.models import load_model\n",
        "model = load_model('Arch2_bestModel.hdf5', custom_objects={'auroc':auroc})"
      ],
      "execution_count": 0,
      "outputs": []
    },
    {
      "cell_type": "code",
      "metadata": {
        "colab_type": "code",
        "id": "viutDhTHTA15",
        "outputId": "932a67d5-ac3d-441b-a979-ffa6593e59f3",
        "colab": {}
      },
      "source": [
        "y_pred = model.predict([X_test_text, test_state, test_grade, test_cat, test_scat, test_tprefix, num_test]\n",
        "                       , batch_size=2000)\n",
        "y_pred_train = model.predict([X_train_text, train_state, train_grade, train_cat, train_scat, train_tprefix, num_train]\n",
        "                       , batch_size=2000)\n",
        "\n",
        "\n",
        "from sklearn.metrics import roc_curve\n",
        "from matplotlib import pyplot as plot\n",
        "aucts = roc_auc_score(y_test, y_pred)\n",
        "print('Test AUC: %.4f' % aucts)\n",
        "auctr = roc_auc_score(y_train, y_pred_train)\n",
        "print('Train AUC: %.4f' % auctr)\n",
        "\n",
        "# calculate roc curve\n",
        "fprts, tprts, thresholds = roc_curve(y_test, y_pred)\n",
        "fprtr, tprtr, thresholds = roc_curve(y_train, y_pred_train)\n",
        "plot.plot(fprts, tprts, label='Test AUC: %.4f' % aucts)\n",
        "plot.plot(fprtr, tprtr, label='Train AUC: %.4f' % auctr)\n",
        "plot.plot([0,1], [0,1])\n",
        "plot.legend(loc='upper left')\n",
        "# show the plot\n",
        "plot.show()"
      ],
      "execution_count": 0,
      "outputs": [
        {
          "output_type": "stream",
          "text": [
            "Test AUC: 0.7627\n",
            "Train AUC: 0.7763\n"
          ],
          "name": "stdout"
        },
        {
          "output_type": "display_data",
          "data": {
            "image/png": "[encoded data removed]",
            "text/plain": [
              "<Figure size 432x288 with 1 Axes>"
            ]
          },
          "metadata": {
            "tags": []
          }
        }
      ]
    },
    {
      "cell_type": "markdown",
      "metadata": {
        "colab_type": "text",
        "id": "N4U3OPs3TA18"
      },
      "source": [
        "## 10.3 Model 3\n",
        "\n",
        "<img src='https://i.imgur.com/fkQ8nGo.png'>\n",
        "\n",
        "- __For text data:<br>\n",
        "<pre>\n",
        "    Same as model 1\n",
        "</pre>\n",
        "- __Other than text data:<br>\n",
        "<pre>\n",
        "    . Convert all your Categorical values to onehot coded and then concatenate all these onehot vectors <br>\n",
        "    . Neumerical values and use CNN1D as shown in above figure. <br>\n",
        "    \n",
        "</pre>"
      ]
    },
    {
      "cell_type": "code",
      "metadata": {
        "colab_type": "code",
        "id": "H8QorPj-TA18",
        "outputId": "77cf170a-7323-4835-8297-ac4ae5dc8e88",
        "colab": {}
      },
      "source": [
        "# ref: https://machinelearningmastery.com/use-word-embedding-layers-deep-learning-keras/\n",
        "\n",
        "t = Tokenizer()\n",
        "t.fit_on_texts(X_train[\"total_text\"].astype('str').tolist())\n",
        "vocab_size = len(t.word_index) + 1\n",
        "\n",
        "print(\"Vocabulary size is {}\".format(vocab_size))"
      ],
      "execution_count": 0,
      "outputs": [
        {
          "output_type": "stream",
          "text": [
            "Vocabulary size is 51332\n"
          ],
          "name": "stdout"
        }
      ]
    },
    {
      "cell_type": "code",
      "metadata": {
        "colab_type": "code",
        "id": "v4gMmSgHTA1_",
        "colab": {}
      },
      "source": [
        "tknText_train = t.texts_to_sequences(X_train[\"total_text\"].astype('str').tolist())\n",
        "tknText_cv = t.texts_to_sequences(X_cv[\"total_text\"].astype('str').tolist())\n",
        "tknText_test = t.texts_to_sequences(X_test[\"total_text\"].astype('str').tolist())\n",
        "X_train_text = pad_sequences(tknText_train, maxlen=360, padding='post', truncating='post')\n",
        "X_cv_text = pad_sequences(tknText_cv, maxlen=360, padding='post', truncating='post')\n",
        "X_test_text = pad_sequences(tknText_test, maxlen=360, padding='post', truncating='post')"
      ],
      "execution_count": 0,
      "outputs": []
    },
    {
      "cell_type": "code",
      "metadata": {
        "colab_type": "code",
        "id": "lWAm8b7STA2B",
        "outputId": "844a2fe4-5ad2-4211-fd9e-d5b1f14ee1df",
        "colab": {}
      },
      "source": [
        "# load the whole embedding into memory\n",
        "embeddings_index = dict()\n",
        "f = open('glove.42B.300d.txt', encoding='utf8')\n",
        "for line in f:\n",
        "    values = line.split()\n",
        "    word = values[0]\n",
        "    coefs = np.asarray(values[1:], dtype='float32')\n",
        "    embeddings_index[word] = coefs\n",
        "f.close()\n",
        "print('Loaded %s word vectors.' % len(embeddings_index))"
      ],
      "execution_count": 0,
      "outputs": [
        {
          "output_type": "stream",
          "text": [
            "Loaded 1917494 word vectors.\n"
          ],
          "name": "stdout"
        }
      ]
    },
    {
      "cell_type": "code",
      "metadata": {
        "colab_type": "code",
        "id": "qlkjltvMTA2E",
        "colab": {}
      },
      "source": [
        "# create a weight matrix for words in training docs\n",
        "embedding_matrix = np.zeros((vocab_size, 300))\n",
        "for word, i in t.word_index.items():\n",
        "    embedding_vector = embeddings_index.get(word)\n",
        "    if embedding_vector is not None:\n",
        "        embedding_matrix[i] = embedding_vector"
      ],
      "execution_count": 0,
      "outputs": []
    },
    {
      "cell_type": "code",
      "metadata": {
        "colab_type": "code",
        "id": "B80EQ8Y5TA2K",
        "colab": {}
      },
      "source": [
        "# All other features, converting them to one hot encoding\n",
        "\n",
        "# onehot encoding for categorical variables\n",
        "\n",
        "from sklearn.feature_extraction.text import CountVectorizer\n",
        "enc = CountVectorizer()\n",
        "train_state_ohe = enc.fit_transform(X_train['school_state'])\n",
        "cv_state_ohe = enc.transform(X_cv['school_state'])\n",
        "test_state_ohe = enc.transform(X_test['school_state'])\n",
        "\n",
        "enc = CountVectorizer()\n",
        "train_grade_ohe = enc.fit_transform(X_train['project_grade_category'])\n",
        "cv_grade_ohe = enc.transform(X_cv['project_grade_category'])\n",
        "test_grade_ohe = enc.transform(X_test['project_grade_category'])\n",
        "\n",
        "enc = CountVectorizer()\n",
        "train_cat_ohe = enc.fit_transform(X_train['project_subject_categories'])\n",
        "cv_cat_ohe = enc.transform(X_cv['project_subject_categories'])\n",
        "test_cat_ohe = enc.transform(X_test['project_subject_categories'])\n",
        "\n",
        "enc = CountVectorizer()\n",
        "train_scat_ohe = enc.fit_transform(X_train['project_subject_subcategories'])\n",
        "cv_scat_ohe = enc.transform(X_cv['project_subject_subcategories'])\n",
        "test_scat_ohe = enc.transform(X_test['project_subject_subcategories'])\n",
        "\n",
        "enc = CountVectorizer()\n",
        "train_tp_ohe = enc.fit_transform(X_train['teacher_prefix'])\n",
        "cv_tp_ohe = enc.transform(X_cv['teacher_prefix'])\n",
        "test_tp_ohe = enc.transform(X_test['teacher_prefix'])\n"
      ],
      "execution_count": 0,
      "outputs": []
    },
    {
      "cell_type": "code",
      "metadata": {
        "colab_type": "code",
        "id": "3GNfFsrGTA2M",
        "colab": {}
      },
      "source": [
        "# numeric features\n",
        "numeric_ft = [\"teacher_number_of_previously_posted_projects\", \"price\", \"quantity\", \"has_number_in_summary\"]\n",
        "scaler = StandardScaler()\n",
        "num_train = scaler.fit_transform(X_train[numeric_ft])\n",
        "num_test = scaler.transform(X_test[numeric_ft])\n",
        "num_cv = scaler.transform(X_cv[numeric_ft])"
      ],
      "execution_count": 0,
      "outputs": []
    },
    {
      "cell_type": "code",
      "metadata": {
        "colab_type": "code",
        "id": "HWO-9OHHTA2N",
        "colab": {}
      },
      "source": [
        "# combining all non text features\n",
        "train_non_text =np.concatenate((train_state_ohe.toarray(), train_grade_ohe.toarray(), train_cat_ohe.toarray(), \n",
        "                                train_scat_ohe.toarray(), train_tp_ohe.toarray(), num_train), axis=1)\n",
        "test_non_text =np.concatenate((test_state_ohe.toarray(), test_grade_ohe.toarray(), test_cat_ohe.toarray(), \n",
        "                                test_scat_ohe.toarray(), test_tp_ohe.toarray(), num_test), axis=1)\n",
        "cv_non_text =np.concatenate((cv_state_ohe.toarray(), cv_grade_ohe.toarray(), cv_cat_ohe.toarray(), \n",
        "                                cv_scat_ohe.toarray(), cv_tp_ohe.toarray(), num_cv), axis=1)\n"
      ],
      "execution_count": 0,
      "outputs": []
    },
    {
      "cell_type": "code",
      "metadata": {
        "colab_type": "code",
        "id": "OksxTtu3TA2V",
        "colab": {}
      },
      "source": [
        "train_non_text2 =np.expand_dims(train_non_text, -1)\n",
        "test_non_text2 =np.expand_dims(test_non_text, -1)\n",
        "cv_non_text2 =np.expand_dims(cv_non_text, -1)"
      ],
      "execution_count": 0,
      "outputs": []
    },
    {
      "cell_type": "code",
      "metadata": {
        "id": "8pKzatotp_cc",
        "colab_type": "code",
        "colab": {},
        "outputId": "889b428f-a6cb-499f-b4f4-971c1c5414bb"
      },
      "source": [
        "train_non_text2.shape"
      ],
      "execution_count": 0,
      "outputs": [
        {
          "output_type": "execute_result",
          "data": {
            "text/plain": [
              "(69918, 129, 1)"
            ]
          },
          "metadata": {
            "tags": []
          },
          "execution_count": 84
        }
      ]
    },
    {
      "cell_type": "code",
      "metadata": {
        "id": "UrtxbJ2up_ce",
        "colab_type": "code",
        "colab": {},
        "outputId": "d19b5d3c-22c4-4234-d96b-6f40ef7bf50c"
      },
      "source": [
        "# model  bulding\n",
        "from keras.layers import concatenate, BatchNormalization, Dropout, Input, Conv1D, MaxPooling1D\n",
        "from keras.models import Model\n",
        "\n",
        "text_input = Input(shape=(360,), name='text_input')\n",
        "x_text= Embedding(vocab_size, 300, weights=[embedding_matrix], input_length=360, trainable=False)(text_input)\n",
        "x_text = CuDNNLSTM(16, return_sequences=True, kernel_regularizer=rg.l2())(x_text)\n",
        "x_text = Flatten()(x_text)\n",
        "\n",
        "non_text_input = Input(shape=(129,1), name='non_text_input')\n",
        "x_ntext= Conv1D(filters=64, kernel_size=5, activation='relu', kernel_initializer='he_normal')(non_text_input)\n",
        "#x_ntext= MaxPooling1D(3)(x_ntext)\n",
        "x_ntext= Conv1D(filters=32, kernel_size=8, activation='relu', kernel_initializer='he_normal')(x_ntext)\n",
        "x_ntext= MaxPooling1D(2)(x_ntext)\n",
        "x_ntext = Flatten()(x_ntext)\n",
        "\n",
        "x = concatenate([x_text, x_ntext], name='concate')\n",
        "x = BatchNormalization()(x)\n",
        "x = Dropout(0.7)(x)\n",
        "\n",
        "x = Dense(96, activation='relu', kernel_initializer='he_normal') (x)\n",
        "x = BatchNormalization()(x)\n",
        "x = Dropout(0.85)(x)\n",
        "\n",
        "x = Dense(64, activation='relu', kernel_initializer='he_normal') (x)\n",
        "x = BatchNormalization()(x)\n",
        "x = Dropout(0.75)(x)\n",
        "\n",
        "x = Dense(32, activation='relu', kernel_initializer='he_normal') (x)\n",
        "x = BatchNormalization()(x)\n",
        "\n",
        "\n",
        "out_put = Dense(1, activation='sigmoid') (x)\n",
        "\n",
        "model = Model(inputs=[text_input, non_text_input],\n",
        "              outputs=out_put)\n",
        "\n",
        "model.summary()"
      ],
      "execution_count": 0,
      "outputs": [
        {
          "output_type": "stream",
          "text": [
            "__________________________________________________________________________________________________\n",
            "Layer (type)                    Output Shape         Param #     Connected to                     \n",
            "==================================================================================================\n",
            "non_text_input (InputLayer)     (None, 129, 1)       0                                            \n",
            "__________________________________________________________________________________________________\n",
            "text_input (InputLayer)         (None, 360)          0                                            \n",
            "__________________________________________________________________________________________________\n",
            "conv1d_1 (Conv1D)               (None, 125, 64)      384         non_text_input[0][0]             \n",
            "__________________________________________________________________________________________________\n",
            "embedding_55 (Embedding)        (None, 360, 300)     15399600    text_input[0][0]                 \n",
            "__________________________________________________________________________________________________\n",
            "conv1d_2 (Conv1D)               (None, 118, 32)      16416       conv1d_1[0][0]                   \n",
            "__________________________________________________________________________________________________\n",
            "cu_dnnlstm_10 (CuDNNLSTM)       (None, 360, 16)      20352       embedding_55[0][0]               \n",
            "__________________________________________________________________________________________________\n",
            "max_pooling1d_1 (MaxPooling1D)  (None, 59, 32)       0           conv1d_2[0][0]                   \n",
            "__________________________________________________________________________________________________\n",
            "flatten_55 (Flatten)            (None, 5760)         0           cu_dnnlstm_10[0][0]              \n",
            "__________________________________________________________________________________________________\n",
            "flatten_56 (Flatten)            (None, 1888)         0           max_pooling1d_1[0][0]            \n",
            "__________________________________________________________________________________________________\n",
            "concate (Concatenate)           (None, 7648)         0           flatten_55[0][0]                 \n",
            "                                                                 flatten_56[0][0]                 \n",
            "__________________________________________________________________________________________________\n",
            "batch_normalization_37 (BatchNo (None, 7648)         30592       concate[0][0]                    \n",
            "__________________________________________________________________________________________________\n",
            "dropout_28 (Dropout)            (None, 7648)         0           batch_normalization_37[0][0]     \n",
            "__________________________________________________________________________________________________\n",
            "dense_46 (Dense)                (None, 96)           734304      dropout_28[0][0]                 \n",
            "__________________________________________________________________________________________________\n",
            "batch_normalization_38 (BatchNo (None, 96)           384         dense_46[0][0]                   \n",
            "__________________________________________________________________________________________________\n",
            "dropout_29 (Dropout)            (None, 96)           0           batch_normalization_38[0][0]     \n",
            "__________________________________________________________________________________________________\n",
            "dense_47 (Dense)                (None, 64)           6208        dropout_29[0][0]                 \n",
            "__________________________________________________________________________________________________\n",
            "batch_normalization_39 (BatchNo (None, 64)           256         dense_47[0][0]                   \n",
            "__________________________________________________________________________________________________\n",
            "dropout_30 (Dropout)            (None, 64)           0           batch_normalization_39[0][0]     \n",
            "__________________________________________________________________________________________________\n",
            "dense_48 (Dense)                (None, 32)           2080        dropout_30[0][0]                 \n",
            "__________________________________________________________________________________________________\n",
            "batch_normalization_40 (BatchNo (None, 32)           128         dense_48[0][0]                   \n",
            "__________________________________________________________________________________________________\n",
            "dense_49 (Dense)                (None, 1)            33          batch_normalization_40[0][0]     \n",
            "==================================================================================================\n",
            "Total params: 16,210,737\n",
            "Trainable params: 795,457\n",
            "Non-trainable params: 15,415,280\n",
            "__________________________________________________________________________________________________\n"
          ],
          "name": "stdout"
        }
      ]
    },
    {
      "cell_type": "code",
      "metadata": {
        "id": "0E3BNL3Np_cg",
        "colab_type": "code",
        "colab": {}
      },
      "source": [
        "import tensorflow as tf\n",
        "from sklearn.metrics import roc_auc_score\n",
        "from keras import optimizers\n",
        "from keras.callbacks import EarlyStopping, ReduceLROnPlateau\n",
        "\n",
        "def auroc(y_true, y_pred):\n",
        "    return tf.py_func(roc_auc_score, (y_true, y_pred), tf.double)\n",
        "\n",
        "model.compile(optimizer=optimizers.adam(0.001, decay=1e-6),\n",
        "              loss='binary_crossentropy',\n",
        "              metrics=[auroc])"
      ],
      "execution_count": 0,
      "outputs": []
    },
    {
      "cell_type": "code",
      "metadata": {
        "scrolled": false,
        "id": "6StoRMwtp_cm",
        "colab_type": "code",
        "colab": {},
        "outputId": "38d6ee0f-edcb-41d7-e67e-00a22b2e736f"
      },
      "source": [
        "from time import time\n",
        "from tensorflow.keras.callbacks import TensorBoard, ModelCheckpoint\n",
        "\n",
        "tb = TensorBoard(log_dir= 'logs/model3/{}'.format(time()))\n",
        "mcp_save = ModelCheckpoint('Arch3_bestModel.hdf5', save_best_only=True, monitor='val_auroc', mode='max')\n",
        "\n",
        "batch_size = 512\n",
        "\n",
        "model.fit([X_train_text, train_non_text2],y_train, validation_data=([X_cv_text, cv_non_text2], y_cv),\n",
        "           batch_size=batch_size, epochs=70, verbose=2, callbacks=[tb, mcp_save])"
      ],
      "execution_count": 0,
      "outputs": [
        {
          "output_type": "stream",
          "text": [
            "Train on 69918 samples, validate on 17480 samples\n",
            "Epoch 1/70\n",
            " - 31s - loss: 1.0141 - auroc: 0.5074 - val_loss: 0.5489 - val_auroc: 0.5380\n",
            "Epoch 2/70\n",
            " - 16s - loss: 0.4872 - auroc: 0.5054 - val_loss: 0.4356 - val_auroc: 0.5391\n",
            "Epoch 3/70\n",
            " - 17s - loss: 0.4410 - auroc: 0.5176 - val_loss: 0.4259 - val_auroc: 0.5680\n",
            "Epoch 4/70\n",
            " - 16s - loss: 0.4348 - auroc: 0.5293 - val_loss: 0.4344 - val_auroc: 0.5686\n",
            "Epoch 5/70\n",
            " - 29s - loss: 0.4309 - auroc: 0.5474 - val_loss: 0.4609 - val_auroc: 0.5825\n",
            "Epoch 6/70\n",
            " - 15s - loss: 0.4242 - auroc: 0.5971 - val_loss: 0.4386 - val_auroc: 0.6412\n",
            "Epoch 7/70\n",
            " - 15s - loss: 0.4155 - auroc: 0.6431 - val_loss: 0.4455 - val_auroc: 0.6864\n",
            "Epoch 8/70\n",
            " - 14s - loss: 0.4109 - auroc: 0.6599 - val_loss: 0.4001 - val_auroc: 0.6994\n",
            "Epoch 9/70\n",
            " - 15s - loss: 0.4061 - auroc: 0.6781 - val_loss: 0.3954 - val_auroc: 0.7083\n",
            "Epoch 10/70\n",
            " - 13s - loss: 0.4031 - auroc: 0.6870 - val_loss: 0.4091 - val_auroc: 0.7152\n",
            "Epoch 11/70\n",
            " - 13s - loss: 0.3994 - auroc: 0.6982 - val_loss: 0.3970 - val_auroc: 0.7142\n",
            "Epoch 12/70\n",
            " - 13s - loss: 0.3978 - auroc: 0.7039 - val_loss: 0.3966 - val_auroc: 0.7238\n",
            "Epoch 13/70\n",
            " - 14s - loss: 0.3952 - auroc: 0.7084 - val_loss: 0.3896 - val_auroc: 0.7271\n",
            "Epoch 14/70\n",
            " - 15s - loss: 0.3921 - auroc: 0.7158 - val_loss: 0.3848 - val_auroc: 0.7293\n",
            "Epoch 15/70\n",
            " - 13s - loss: 0.3889 - auroc: 0.7209 - val_loss: 0.3978 - val_auroc: 0.7378\n",
            "Epoch 16/70\n",
            " - 13s - loss: 0.3883 - auroc: 0.7243 - val_loss: 0.4263 - val_auroc: 0.7372\n",
            "Epoch 17/70\n",
            " - 13s - loss: 0.3858 - auroc: 0.7286 - val_loss: 0.3973 - val_auroc: 0.7368\n",
            "Epoch 18/70\n",
            " - 12s - loss: 0.3851 - auroc: 0.7283 - val_loss: 0.4270 - val_auroc: 0.7424\n",
            "Epoch 19/70\n",
            " - 13s - loss: 0.3833 - auroc: 0.7338 - val_loss: 0.3918 - val_auroc: 0.7442\n",
            "Epoch 20/70\n",
            " - 13s - loss: 0.3829 - auroc: 0.7359 - val_loss: 0.3886 - val_auroc: 0.7457\n",
            "Epoch 21/70\n",
            " - 12s - loss: 0.3820 - auroc: 0.7355 - val_loss: 0.3874 - val_auroc: 0.7483\n",
            "Epoch 22/70\n",
            " - 13s - loss: 0.3812 - auroc: 0.7366 - val_loss: 0.3997 - val_auroc: 0.7544\n",
            "Epoch 23/70\n",
            " - 12s - loss: 0.3801 - auroc: 0.7402 - val_loss: 0.3849 - val_auroc: 0.7519\n",
            "Epoch 24/70\n",
            " - 12s - loss: 0.3802 - auroc: 0.7372 - val_loss: 0.3800 - val_auroc: 0.7523\n",
            "Epoch 25/70\n",
            " - 15s - loss: 0.3790 - auroc: 0.7401 - val_loss: 0.3817 - val_auroc: 0.7559\n",
            "Epoch 26/70\n",
            " - 16s - loss: 0.3775 - auroc: 0.7430 - val_loss: 0.3825 - val_auroc: 0.7550\n",
            "Epoch 27/70\n",
            " - 15s - loss: 0.3775 - auroc: 0.7427 - val_loss: 0.3788 - val_auroc: 0.7506\n",
            "Epoch 28/70\n",
            " - 13s - loss: 0.3761 - auroc: 0.7463 - val_loss: 0.3773 - val_auroc: 0.7556\n",
            "Epoch 29/70\n",
            " - 13s - loss: 0.3764 - auroc: 0.7446 - val_loss: 0.4043 - val_auroc: 0.7574\n",
            "Epoch 30/70\n",
            " - 13s - loss: 0.3764 - auroc: 0.7457 - val_loss: 0.3747 - val_auroc: 0.7588\n",
            "Epoch 31/70\n",
            " - 12s - loss: 0.3752 - auroc: 0.7492 - val_loss: 0.3744 - val_auroc: 0.7575\n",
            "Epoch 32/70\n",
            " - 13s - loss: 0.3753 - auroc: 0.7472 - val_loss: 0.4308 - val_auroc: 0.7394\n",
            "Epoch 33/70\n",
            " - 13s - loss: 0.3745 - auroc: 0.7491 - val_loss: 0.3724 - val_auroc: 0.7569\n",
            "Epoch 34/70\n",
            " - 12s - loss: 0.3742 - auroc: 0.7496 - val_loss: 0.3743 - val_auroc: 0.7565\n",
            "Epoch 35/70\n",
            " - 12s - loss: 0.3739 - auroc: 0.7495 - val_loss: 0.3823 - val_auroc: 0.7599\n",
            "Epoch 36/70\n",
            " - 12s - loss: 0.3733 - auroc: 0.7522 - val_loss: 0.3734 - val_auroc: 0.7599\n",
            "Epoch 37/70\n",
            " - 16s - loss: 0.3729 - auroc: 0.7528 - val_loss: 0.3717 - val_auroc: 0.7615\n",
            "Epoch 38/70\n",
            " - 12s - loss: 0.3721 - auroc: 0.7532 - val_loss: 0.3748 - val_auroc: 0.7580\n",
            "Epoch 39/70\n",
            " - 13s - loss: 0.3724 - auroc: 0.7525 - val_loss: 0.3929 - val_auroc: 0.7578\n",
            "Epoch 40/70\n",
            " - 15s - loss: 0.3719 - auroc: 0.7538 - val_loss: 0.3742 - val_auroc: 0.7621\n",
            "Epoch 41/70\n",
            " - 26s - loss: 0.3726 - auroc: 0.7520 - val_loss: 0.3929 - val_auroc: 0.7598\n",
            "Epoch 42/70\n",
            " - 22s - loss: 0.3716 - auroc: 0.7541 - val_loss: 0.3758 - val_auroc: 0.7604\n",
            "Epoch 43/70\n",
            " - 13s - loss: 0.3718 - auroc: 0.7569 - val_loss: 0.3757 - val_auroc: 0.7633\n",
            "Epoch 44/70\n",
            " - 15s - loss: 0.3706 - auroc: 0.7575 - val_loss: 0.3732 - val_auroc: 0.7613\n",
            "Epoch 45/70\n",
            " - 20s - loss: 0.3722 - auroc: 0.7565 - val_loss: 0.3901 - val_auroc: 0.7614\n",
            "Epoch 46/70\n",
            " - 13s - loss: 0.3712 - auroc: 0.7564 - val_loss: 0.3704 - val_auroc: 0.7658\n",
            "Epoch 47/70\n",
            " - 14s - loss: 0.3708 - auroc: 0.7576 - val_loss: 0.4034 - val_auroc: 0.7594\n",
            "Epoch 48/70\n",
            " - 14s - loss: 0.3699 - auroc: 0.7591 - val_loss: 0.3819 - val_auroc: 0.7630\n",
            "Epoch 49/70\n",
            " - 13s - loss: 0.3701 - auroc: 0.7595 - val_loss: 0.3780 - val_auroc: 0.7666\n",
            "Epoch 50/70\n",
            " - 15s - loss: 0.3710 - auroc: 0.7578 - val_loss: 0.3725 - val_auroc: 0.7644\n",
            "Epoch 51/70\n",
            " - 13s - loss: 0.3688 - auroc: 0.7608 - val_loss: 0.3728 - val_auroc: 0.7637\n",
            "Epoch 52/70\n",
            " - 13s - loss: 0.3699 - auroc: 0.7600 - val_loss: 0.3867 - val_auroc: 0.7638\n",
            "Epoch 53/70\n",
            " - 13s - loss: 0.3685 - auroc: 0.7625 - val_loss: 0.3716 - val_auroc: 0.7635\n",
            "Epoch 54/70\n",
            " - 13s - loss: 0.3684 - auroc: 0.7634 - val_loss: 0.3707 - val_auroc: 0.7631\n",
            "Epoch 55/70\n",
            " - 13s - loss: 0.3685 - auroc: 0.7627 - val_loss: 0.3791 - val_auroc: 0.7631\n",
            "Epoch 56/70\n",
            " - 13s - loss: 0.3675 - auroc: 0.7660 - val_loss: 0.3739 - val_auroc: 0.7623\n",
            "Epoch 57/70\n",
            " - 13s - loss: 0.3684 - auroc: 0.7637 - val_loss: 0.4137 - val_auroc: 0.7604\n",
            "Epoch 58/70\n",
            " - 13s - loss: 0.3689 - auroc: 0.7598 - val_loss: 0.3765 - val_auroc: 0.7652\n",
            "Epoch 59/70\n",
            " - 13s - loss: 0.3673 - auroc: 0.7671 - val_loss: 0.3785 - val_auroc: 0.7691\n",
            "Epoch 60/70\n",
            " - 14s - loss: 0.3685 - auroc: 0.7632 - val_loss: 0.3746 - val_auroc: 0.7658\n",
            "Epoch 61/70\n",
            " - 13s - loss: 0.3668 - auroc: 0.7669 - val_loss: 0.3746 - val_auroc: 0.7639\n",
            "Epoch 62/70\n",
            " - 13s - loss: 0.3683 - auroc: 0.7638 - val_loss: 0.3853 - val_auroc: 0.7609\n",
            "Epoch 63/70\n",
            " - 13s - loss: 0.3662 - auroc: 0.7678 - val_loss: 0.3856 - val_auroc: 0.7640\n",
            "Epoch 64/70\n",
            " - 14s - loss: 0.3681 - auroc: 0.7645 - val_loss: 0.3867 - val_auroc: 0.7655\n",
            "Epoch 65/70\n",
            " - 13s - loss: 0.3672 - auroc: 0.7656 - val_loss: 0.3787 - val_auroc: 0.7655\n",
            "Epoch 66/70\n",
            " - 15s - loss: 0.3665 - auroc: 0.7677 - val_loss: 0.3691 - val_auroc: 0.7683\n",
            "Epoch 67/70\n",
            " - 13s - loss: 0.3668 - auroc: 0.7656 - val_loss: 0.3725 - val_auroc: 0.7643\n",
            "Epoch 68/70\n",
            " - 13s - loss: 0.3658 - auroc: 0.7678 - val_loss: 0.3776 - val_auroc: 0.7664\n",
            "Epoch 69/70\n",
            " - 13s - loss: 0.3657 - auroc: 0.7683 - val_loss: 0.3791 - val_auroc: 0.7667\n",
            "Epoch 70/70\n",
            " - 13s - loss: 0.3662 - auroc: 0.7662 - val_loss: 0.3765 - val_auroc: 0.7665\n"
          ],
          "name": "stdout"
        },
        {
          "output_type": "execute_result",
          "data": {
            "text/plain": [
              "<keras.callbacks.History at 0x2ae20faeba8>"
            ]
          },
          "metadata": {
            "tags": []
          },
          "execution_count": 87
        }
      ]
    },
    {
      "cell_type": "code",
      "metadata": {
        "id": "W7Vpz0Idp_co",
        "colab_type": "code",
        "colab": {}
      },
      "source": [
        "from keras.models import load_model\n",
        "model = load_model('Arch3_bestModel.hdf5', custom_objects={'auroc':auroc})"
      ],
      "execution_count": 0,
      "outputs": []
    },
    {
      "cell_type": "code",
      "metadata": {
        "colab_type": "code",
        "id": "bItcIylRTA2d",
        "outputId": "dbccc54e-9833-45ae-e346-67237db48c27",
        "colab": {}
      },
      "source": [
        "y_pred = model.predict([X_test_text, test_non_text2], batch_size=2000)\n",
        "y_pred_train = model.predict([X_train_text, train_non_text2], batch_size=2000)\n",
        "\n",
        "\n",
        "from sklearn.metrics import roc_curve\n",
        "from matplotlib import pyplot as plot\n",
        "aucts = roc_auc_score(y_test, y_pred)\n",
        "print('Test AUC: %.4f' % aucts)\n",
        "auctr = roc_auc_score(y_train, y_pred_train)\n",
        "print('Train AUC: %.4f' % auctr)\n",
        "\n",
        "# calculate roc curve\n",
        "fprts, tprts, thresholds = roc_curve(y_test, y_pred)\n",
        "fprtr, tprtr, thresholds = roc_curve(y_train, y_pred_train)\n",
        "plot.plot(fprts, tprts, label='Test AUC: %.4f' % aucts)\n",
        "plot.plot(fprtr, tprtr, label='Train AUC: %.4f' % auctr)\n",
        "plot.plot([0,1], [0,1])\n",
        "plot.legend(loc='upper left')\n",
        "# show the plot\n",
        "plot.show()"
      ],
      "execution_count": 0,
      "outputs": [
        {
          "output_type": "stream",
          "text": [
            "Test AUC: 0.7707\n",
            "Train AUC: 0.7864\n"
          ],
          "name": "stdout"
        },
        {
          "output_type": "display_data",
          "data": {
            "image/png": "[encoded data removed]",
            "text/plain": [
              "<Figure size 432x288 with 1 Axes>"
            ]
          },
          "metadata": {
            "tags": []
          }
        }
      ]
    },
    {
      "cell_type": "markdown",
      "metadata": {
        "id": "EUTzrgYFp_cs",
        "colab_type": "text"
      },
      "source": [
        "# 11. Tensorboard vizualization"
      ]
    },
    {
      "cell_type": "markdown",
      "metadata": {
        "id": "VejJYx_Rp_ct",
        "colab_type": "text"
      },
      "source": [
        "<h3>epoch-wise AUC (Training)</h3>\n",
        "\n",
        "![TB_training_auc.png](attachment:TB_training_auc.png)\n",
        "\n",
        "<h3>epoch-wise AUC (Validation)</h3>\n",
        "\n",
        "![TB_validation_auc.png](attachment:TB_validation_auc.png)\n"
      ]
    },
    {
      "cell_type": "markdown",
      "metadata": {
        "colab_type": "text",
        "id": "X08AjkpWTA2h"
      },
      "source": [
        "# 12. Conclusion"
      ]
    },
    {
      "cell_type": "code",
      "metadata": {
        "colab_type": "code",
        "id": "3XOJ_OTfTA2h",
        "outputId": "38c7a78c-da03-449e-c0b7-3e91f76d62ef",
        "colab": {}
      },
      "source": [
        "from prettytable import PrettyTable\n",
        "    \n",
        "x = PrettyTable()\n",
        "\n",
        "x.field_names = [\"Model\", \"Train AUC\", \"Test AUC\"]\n",
        "\n",
        "x.add_row([\"Model 1\", .771, .765])\n",
        "x.add_row([\"Model 2\", .776, .763])\n",
        "x.add_row([\"Model 3\", .786, .771])\n",
        "\n",
        "print(x)\n"
      ],
      "execution_count": 0,
      "outputs": [
        {
          "output_type": "stream",
          "text": [
            "+---------+-----------+----------+\n",
            "|  Model  | Train AUC | Test AUC |\n",
            "+---------+-----------+----------+\n",
            "| Model 1 |   0.771   |  0.765   |\n",
            "| Model 2 |   0.776   |  0.763   |\n",
            "| Model 3 |   0.786   |  0.771   |\n",
            "+---------+-----------+----------+\n"
          ],
          "name": "stdout"
        }
      ]
    }
  ]
}